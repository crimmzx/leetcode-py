{
 "cells": [
  {
   "cell_type": "code",
   "execution_count": null,
   "id": "69199d15",
   "metadata": {},
   "outputs": [],
   "source": [
    "from helpers import assert_can_finish, run_can_finish\n",
    "from solution import Solution"
   ]
  },
  {
   "cell_type": "code",
   "execution_count": null,
   "id": "661d36af",
   "metadata": {},
   "outputs": [],
   "source": [
    "# Example test case\n",
    "num_courses = 2\n",
    "prerequisites = [[1, 0]]\n",
    "expected = True"
   ]
  },
  {
   "cell_type": "code",
   "execution_count": null,
   "id": "ac4c6e02",
   "metadata": {},
   "outputs": [],
   "source": [
    "result = run_can_finish(Solution, num_courses, prerequisites)\n",
    "result"
   ]
  },
  {
   "cell_type": "code",
   "execution_count": null,
   "id": "486e2391",
   "metadata": {},
   "outputs": [],
   "source": [
    "assert_can_finish(result, expected)"
   ]
  }
 ],
 "metadata": {
  "jupytext": {
   "formats": "ipynb,py:percent"
  },
  "kernelspec": {
   "display_name": "leetcode-py-py3.13",
   "language": "python",
   "name": "python3"
  }
 },
 "nbformat": 4,
 "nbformat_minor": 5
}
