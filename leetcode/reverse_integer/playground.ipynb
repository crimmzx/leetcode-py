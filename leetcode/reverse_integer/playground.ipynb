{
 "cells": [
  {
   "cell_type": "code",
   "execution_count": null,
   "id": "89878aca",
   "metadata": {},
   "outputs": [],
   "source": [
    "from helpers import assert_reverse, run_reverse\n",
    "from solution import Solution"
   ]
  },
  {
   "cell_type": "code",
   "execution_count": null,
   "id": "028e073e",
   "metadata": {},
   "outputs": [],
   "source": [
    "# Example test case\n",
    "x = 123\n",
    "expected = 321"
   ]
  },
  {
   "cell_type": "code",
   "execution_count": null,
   "id": "00ac6cfa",
   "metadata": {},
   "outputs": [],
   "source": [
    "result = run_reverse(Solution, x)\n",
    "result"
   ]
  },
  {
   "cell_type": "code",
   "execution_count": null,
   "id": "7bbf6f67",
   "metadata": {},
   "outputs": [],
   "source": [
    "assert_reverse(result, expected)"
   ]
  }
 ],
 "metadata": {
  "kernelspec": {
   "display_name": "leetcode-py-py3.13",
   "language": "python",
   "name": "python3"
  }
 },
 "nbformat": 4,
 "nbformat_minor": 5
}
