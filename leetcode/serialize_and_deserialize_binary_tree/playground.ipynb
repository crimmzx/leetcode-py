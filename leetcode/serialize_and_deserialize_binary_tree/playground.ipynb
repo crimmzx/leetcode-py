{
 "cells": [
  {
   "cell_type": "code",
   "execution_count": null,
   "id": "9af03639",
   "metadata": {},
   "outputs": [],
   "source": [
    "from helpers import assert_serialize_deserialize, run_serialize_deserialize\n",
    "from solution import Codec"
   ]
  },
  {
   "cell_type": "code",
   "execution_count": null,
   "id": "9b6df939",
   "metadata": {},
   "outputs": [],
   "source": [
    "# Example test case\n",
    "root_list = [1, 2, 3, None, None, 4, 5]"
   ]
  },
  {
   "cell_type": "code",
   "execution_count": null,
   "id": "a948da28",
   "metadata": {},
   "outputs": [],
   "source": [
    "result = run_serialize_deserialize(Codec, root_list)\n",
    "result"
   ]
  },
  {
   "cell_type": "code",
   "execution_count": null,
   "id": "b05d43cf",
   "metadata": {},
   "outputs": [],
   "source": [
    "assert_serialize_deserialize(result, root_list)"
   ]
  }
 ],
 "metadata": {
  "jupytext": {
   "formats": "ipynb,py:percent"
  },
  "kernelspec": {
   "display_name": "leetcode-py-py3.13",
   "language": "python",
   "name": "python3"
  }
 },
 "nbformat": 4,
 "nbformat_minor": 5
}
