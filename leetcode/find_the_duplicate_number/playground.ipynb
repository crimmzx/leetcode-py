{
 "cells": [
  {
   "cell_type": "code",
   "execution_count": null,
   "id": "429167f0",
   "metadata": {},
   "outputs": [],
   "source": [
    "from helpers import assert_find_duplicate, run_find_duplicate\n",
    "from solution import Solution"
   ]
  },
  {
   "cell_type": "code",
   "execution_count": null,
   "id": "ed9fc5cb",
   "metadata": {},
   "outputs": [],
   "source": [
    "# Example test case\n",
    "nums: list[int] = [1, 3, 4, 2, 2]\n",
    "expected = 2"
   ]
  },
  {
   "cell_type": "code",
   "execution_count": null,
   "id": "3ee2cc0c",
   "metadata": {},
   "outputs": [],
   "source": [
    "result = run_find_duplicate(Solution, nums)\n",
    "result"
   ]
  },
  {
   "cell_type": "code",
   "execution_count": null,
   "id": "e2c04ded",
   "metadata": {},
   "outputs": [],
   "source": [
    "assert_find_duplicate(result, expected)"
   ]
  }
 ],
 "metadata": {
  "kernelspec": {
   "display_name": "leetcode-py-py3.13",
   "language": "python",
   "name": "python3"
  }
 },
 "nbformat": 4,
 "nbformat_minor": 5
}
