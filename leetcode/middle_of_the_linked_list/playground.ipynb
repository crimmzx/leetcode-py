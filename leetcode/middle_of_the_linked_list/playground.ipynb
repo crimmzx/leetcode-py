{
 "cells": [
  {
   "cell_type": "code",
   "execution_count": null,
   "id": "24f73b92",
   "metadata": {},
   "outputs": [],
   "source": [
    "from helpers import assert_middle_node, run_middle_node\n",
    "from solution import Solution\n",
    "\n",
    "from leetcode_py import ListNode"
   ]
  },
  {
   "cell_type": "code",
   "execution_count": null,
   "id": "e81bf622",
   "metadata": {},
   "outputs": [],
   "source": [
    "# Example test case\n",
    "head_list = [1, 2, 3, 4, 5]\n",
    "expected_list = [3, 4, 5]"
   ]
  },
  {
   "cell_type": "code",
   "execution_count": null,
   "id": "b9e51e78",
   "metadata": {},
   "outputs": [],
   "source": [
    "result = run_middle_node(Solution, head_list)\n",
    "ListNode[int].to_list(result) if result else []"
   ]
  },
  {
   "cell_type": "code",
   "execution_count": null,
   "id": "d187f812",
   "metadata": {},
   "outputs": [],
   "source": [
    "assert_middle_node(result, expected_list)"
   ]
  }
 ],
 "metadata": {
  "jupytext": {
   "formats": "ipynb,py:percent"
  },
  "kernelspec": {
   "display_name": "leetcode-py-py3.13",
   "language": "python",
   "name": "python3"
  }
 },
 "nbformat": 4,
 "nbformat_minor": 5
}
