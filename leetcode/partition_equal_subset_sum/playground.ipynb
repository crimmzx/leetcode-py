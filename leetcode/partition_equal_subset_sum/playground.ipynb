{
 "cells": [
  {
   "cell_type": "code",
   "execution_count": null,
   "id": "ea964ab7",
   "metadata": {},
   "outputs": [],
   "source": [
    "from helpers import assert_can_partition, run_can_partition\n",
    "from solution import Solution"
   ]
  },
  {
   "cell_type": "code",
   "execution_count": null,
   "id": "248839de",
   "metadata": {},
   "outputs": [],
   "source": [
    "# Example test case\n",
    "nums = [1, 5, 11, 5]\n",
    "expected = True"
   ]
  },
  {
   "cell_type": "code",
   "execution_count": null,
   "id": "b1e6e69e",
   "metadata": {},
   "outputs": [],
   "source": [
    "result = run_can_partition(Solution, nums)\n",
    "result"
   ]
  },
  {
   "cell_type": "code",
   "execution_count": null,
   "id": "911ae1e4",
   "metadata": {},
   "outputs": [],
   "source": [
    "assert_can_partition(result, expected)"
   ]
  }
 ],
 "metadata": {
  "jupytext": {
   "formats": "ipynb,py:percent"
  },
  "kernelspec": {
   "display_name": "leetcode-py-py3.13",
   "language": "python",
   "name": "python3"
  }
 },
 "nbformat": 4,
 "nbformat_minor": 5
}
