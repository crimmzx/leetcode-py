{
 "cells": [
  {
   "cell_type": "code",
   "execution_count": null,
   "id": "5a45206e",
   "metadata": {},
   "outputs": [],
   "source": [
    "from helpers import assert_median_finder, run_median_finder\n",
    "from solution import MedianFinder"
   ]
  },
  {
   "cell_type": "code",
   "execution_count": null,
   "id": "0aada4e4",
   "metadata": {},
   "outputs": [],
   "source": [
    "# Example test case\n",
    "operations = [\"MedianFinder\", \"addNum\", \"addNum\", \"findMedian\", \"addNum\", \"findMedian\"]\n",
    "inputs = [[], [1], [2], [], [3], []]\n",
    "expected = [None, None, None, 1.5, None, 2.0]"
   ]
  },
  {
   "cell_type": "code",
   "execution_count": null,
   "id": "8d764ec6",
   "metadata": {},
   "outputs": [],
   "source": [
    "result, mf = run_median_finder(MedianFinder, operations, inputs)\n",
    "print(result)\n",
    "mf"
   ]
  },
  {
   "cell_type": "code",
   "execution_count": null,
   "id": "066d7641",
   "metadata": {},
   "outputs": [],
   "source": [
    "assert_median_finder(result, expected)"
   ]
  }
 ],
 "metadata": {
  "jupytext": {
   "formats": "ipynb,py:percent"
  },
  "kernelspec": {
   "display_name": "leetcode-py-py3.13",
   "language": "python",
   "name": "python3"
  }
 },
 "nbformat": 4,
 "nbformat_minor": 5
}
