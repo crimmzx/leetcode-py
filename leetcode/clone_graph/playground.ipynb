{
 "cells": [
  {
   "cell_type": "code",
   "execution_count": null,
   "id": "6b50c6ae",
   "metadata": {},
   "outputs": [],
   "source": [
    "from helpers import assert_clone_graph, run_clone_graph\n",
    "from solution import Solution"
   ]
  },
  {
   "cell_type": "code",
   "execution_count": null,
   "id": "05635430",
   "metadata": {},
   "outputs": [],
   "source": [
    "# Example test case\n",
    "adj_list = [[2, 4], [1, 3], [2, 4], [1, 3]]"
   ]
  },
  {
   "cell_type": "code",
   "execution_count": null,
   "id": "ba56fab4",
   "metadata": {},
   "outputs": [],
   "source": [
    "result = run_clone_graph(Solution, adj_list)\n",
    "result"
   ]
  },
  {
   "cell_type": "code",
   "execution_count": null,
   "id": "b434d217",
   "metadata": {},
   "outputs": [],
   "source": [
    "assert_clone_graph(result, adj_list)"
   ]
  }
 ],
 "metadata": {
  "jupytext": {
   "formats": "ipynb,py:percent"
  },
  "kernelspec": {
   "display_name": "leetcode-py-py3.13",
   "language": "python",
   "name": "python3"
  }
 },
 "nbformat": 4,
 "nbformat_minor": 5
}
