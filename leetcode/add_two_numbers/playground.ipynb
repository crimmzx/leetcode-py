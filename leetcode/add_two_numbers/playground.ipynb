{
 "cells": [
  {
   "cell_type": "code",
   "execution_count": null,
   "id": "e9abb12e",
   "metadata": {},
   "outputs": [],
   "source": [
    "from helpers import assert_add_two_numbers, run_add_two_numbers\n",
    "from solution import Solution"
   ]
  },
  {
   "cell_type": "code",
   "execution_count": null,
   "id": "93e79c47",
   "metadata": {},
   "outputs": [],
   "source": [
    "# Example test case\n",
    "l1_vals = [2, 4, 3]\n",
    "l2_vals = [5, 6, 4]\n",
    "expected_vals = [7, 0, 8]"
   ]
  },
  {
   "cell_type": "code",
   "execution_count": null,
   "id": "affd559b",
   "metadata": {},
   "outputs": [],
   "source": [
    "result = run_add_two_numbers(Solution, l1_vals, l2_vals)\n",
    "result"
   ]
  },
  {
   "cell_type": "code",
   "execution_count": null,
   "id": "7cbc5acf",
   "metadata": {},
   "outputs": [],
   "source": [
    "assert_add_two_numbers(result, expected_vals)"
   ]
  }
 ],
 "metadata": {
  "kernelspec": {
   "display_name": "leetcode-py-py3.13",
   "language": "python",
   "name": "python3"
  }
 },
 "nbformat": 4,
 "nbformat_minor": 5
}
