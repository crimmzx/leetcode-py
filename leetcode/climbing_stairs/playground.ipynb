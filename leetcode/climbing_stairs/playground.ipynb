{
 "cells": [
  {
   "cell_type": "code",
   "execution_count": null,
   "id": "c9fd3420",
   "metadata": {},
   "outputs": [],
   "source": [
    "from helpers import assert_climb_stairs, run_climb_stairs\n",
    "from solution import Solution"
   ]
  },
  {
   "cell_type": "code",
   "execution_count": null,
   "id": "3ecfd5f6",
   "metadata": {},
   "outputs": [],
   "source": [
    "# Example test case\n",
    "n = 3\n",
    "expected = 3"
   ]
  },
  {
   "cell_type": "code",
   "execution_count": null,
   "id": "89c198b4",
   "metadata": {},
   "outputs": [],
   "source": [
    "result = run_climb_stairs(Solution, n)\n",
    "result"
   ]
  },
  {
   "cell_type": "code",
   "execution_count": null,
   "id": "ee647837",
   "metadata": {},
   "outputs": [],
   "source": [
    "assert_climb_stairs(result, expected)"
   ]
  }
 ],
 "metadata": {
  "jupytext": {
   "formats": "ipynb,py:percent"
  },
  "kernelspec": {
   "display_name": "leetcode-py-py3.13",
   "language": "python",
   "name": "python3"
  }
 },
 "nbformat": 4,
 "nbformat_minor": 5
}
