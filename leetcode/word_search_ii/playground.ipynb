{
 "cells": [
  {
   "cell_type": "code",
   "execution_count": null,
   "id": "f760845a",
   "metadata": {},
   "outputs": [],
   "source": [
    "from helpers import assert_find_words, run_find_words\n",
    "from solution import Solution"
   ]
  },
  {
   "cell_type": "code",
   "execution_count": null,
   "id": "dd10580f",
   "metadata": {},
   "outputs": [],
   "source": [
    "# Example test case\n",
    "board = [[\"o\", \"a\", \"a\", \"n\"], [\"e\", \"t\", \"a\", \"e\"], [\"i\", \"h\", \"k\", \"r\"], [\"i\", \"f\", \"l\", \"v\"]]\n",
    "words = [\"oath\", \"pea\", \"eat\", \"rain\"]\n",
    "expected = [\"eat\", \"oath\"]"
   ]
  },
  {
   "cell_type": "code",
   "execution_count": null,
   "id": "d30f5298",
   "metadata": {},
   "outputs": [],
   "source": [
    "result = run_find_words(Solution, board, words)\n",
    "result"
   ]
  },
  {
   "cell_type": "code",
   "execution_count": null,
   "id": "fc116200",
   "metadata": {},
   "outputs": [],
   "source": [
    "assert_find_words(result, expected)"
   ]
  }
 ],
 "metadata": {
  "kernelspec": {
   "display_name": "leetcode-py-py3.13",
   "language": "python",
   "name": "python3"
  }
 },
 "nbformat": 4,
 "nbformat_minor": 5
}
