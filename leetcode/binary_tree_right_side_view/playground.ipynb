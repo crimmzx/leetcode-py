{
 "cells": [
  {
   "cell_type": "code",
   "execution_count": null,
   "id": "16e0f82d",
   "metadata": {},
   "outputs": [],
   "source": [
    "from helpers import assert_right_side_view, run_right_side_view\n",
    "from solution import Solution\n",
    "\n",
    "from leetcode_py import TreeNode"
   ]
  },
  {
   "cell_type": "code",
   "execution_count": null,
   "id": "c4aec824",
   "metadata": {},
   "outputs": [],
   "source": [
    "# Example test case\n",
    "root_list: list[int | None] = [1, 2, 3, None, 5, None, 4]\n",
    "expected = [1, 3, 4]"
   ]
  },
  {
   "cell_type": "code",
   "execution_count": null,
   "id": "168a7c6d",
   "metadata": {},
   "outputs": [],
   "source": [
    "root = TreeNode.from_list(root_list)\n",
    "root"
   ]
  },
  {
   "cell_type": "code",
   "execution_count": null,
   "id": "ece3d283",
   "metadata": {},
   "outputs": [],
   "source": [
    "result = run_right_side_view(Solution, root_list)\n",
    "result"
   ]
  },
  {
   "cell_type": "code",
   "execution_count": null,
   "id": "99051ee1",
   "metadata": {},
   "outputs": [],
   "source": [
    "assert_right_side_view(result, expected)"
   ]
  }
 ],
 "metadata": {
  "jupytext": {
   "formats": "ipynb,py:percent"
  },
  "kernelspec": {
   "display_name": "leetcode-py-py3.13",
   "language": "python",
   "name": "python3"
  }
 },
 "nbformat": 4,
 "nbformat_minor": 5
}
