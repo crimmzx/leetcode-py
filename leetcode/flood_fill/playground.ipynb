{
 "cells": [
  {
   "cell_type": "code",
   "execution_count": null,
   "id": "c5385be4",
   "metadata": {},
   "outputs": [],
   "source": [
    "from helpers import assert_flood_fill, run_flood_fill\n",
    "from solution import Solution"
   ]
  },
  {
   "cell_type": "code",
   "execution_count": null,
   "id": "e6529527",
   "metadata": {},
   "outputs": [],
   "source": [
    "# Example test case\n",
    "image = [[1, 1, 1], [1, 1, 0], [1, 0, 1]]\n",
    "sr = 1\n",
    "sc = 1\n",
    "color = 2\n",
    "expected = [[2, 2, 2], [2, 2, 0], [2, 0, 1]]"
   ]
  },
  {
   "cell_type": "code",
   "execution_count": null,
   "id": "c5788a74",
   "metadata": {},
   "outputs": [],
   "source": [
    "result = run_flood_fill(Solution, image, sr, sc, color)\n",
    "result"
   ]
  },
  {
   "cell_type": "code",
   "execution_count": null,
   "id": "cbea39a1",
   "metadata": {},
   "outputs": [],
   "source": [
    "assert_flood_fill(result, expected)"
   ]
  }
 ],
 "metadata": {
  "jupytext": {
   "formats": "ipynb,py:percent"
  },
  "kernelspec": {
   "display_name": "leetcode-py-py3.13",
   "language": "python",
   "name": "python3"
  }
 },
 "nbformat": 4,
 "nbformat_minor": 5
}
