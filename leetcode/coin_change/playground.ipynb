{
 "cells": [
  {
   "cell_type": "code",
   "execution_count": null,
   "id": "338ff2b6",
   "metadata": {},
   "outputs": [],
   "source": [
    "from helpers import assert_coin_change, run_coin_change\n",
    "from solution import Solution"
   ]
  },
  {
   "cell_type": "code",
   "execution_count": null,
   "id": "c5fc7072",
   "metadata": {},
   "outputs": [],
   "source": [
    "# Example test case\n",
    "coins = [1, 2, 5]\n",
    "amount = 11\n",
    "expected = 3"
   ]
  },
  {
   "cell_type": "code",
   "execution_count": null,
   "id": "c8abd3fc",
   "metadata": {},
   "outputs": [],
   "source": [
    "result = run_coin_change(Solution, coins, amount)\n",
    "result"
   ]
  },
  {
   "cell_type": "code",
   "execution_count": null,
   "id": "713d63f2",
   "metadata": {},
   "outputs": [],
   "source": [
    "assert_coin_change(result, expected)"
   ]
  }
 ],
 "metadata": {
  "jupytext": {
   "formats": "ipynb,py:percent"
  },
  "kernelspec": {
   "display_name": "leetcode-py-py3.13",
   "language": "python",
   "name": "python3"
  }
 },
 "nbformat": 4,
 "nbformat_minor": 5
}
