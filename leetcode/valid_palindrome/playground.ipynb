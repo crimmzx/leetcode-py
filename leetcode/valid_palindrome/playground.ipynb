{
 "cells": [
  {
   "cell_type": "code",
   "execution_count": null,
   "id": "54f77629",
   "metadata": {},
   "outputs": [],
   "source": [
    "from helpers import assert_is_palindrome, run_is_palindrome\n",
    "from solution import Solution"
   ]
  },
  {
   "cell_type": "code",
   "execution_count": null,
   "id": "ef3d32f2",
   "metadata": {},
   "outputs": [],
   "source": [
    "# Example test case\n",
    "s = \"A man, a plan, a canal: Panama\"\n",
    "expected = True"
   ]
  },
  {
   "cell_type": "code",
   "execution_count": null,
   "id": "817d49be",
   "metadata": {},
   "outputs": [],
   "source": [
    "result = run_is_palindrome(Solution, s)\n",
    "result"
   ]
  },
  {
   "cell_type": "code",
   "execution_count": null,
   "id": "93789f9b",
   "metadata": {},
   "outputs": [],
   "source": [
    "assert_is_palindrome(result, expected)"
   ]
  }
 ],
 "metadata": {
  "jupytext": {
   "formats": "ipynb,py:percent"
  },
  "kernelspec": {
   "display_name": "leetcode-py-py3.13",
   "language": "python",
   "name": "python3"
  }
 },
 "nbformat": 4,
 "nbformat_minor": 5
}
