{
 "cells": [
  {
   "cell_type": "code",
   "execution_count": null,
   "id": "e84db794",
   "metadata": {},
   "outputs": [],
   "source": [
    "from helpers import assert_reverse_list, run_reverse_list\n",
    "from solution import Solution"
   ]
  },
  {
   "cell_type": "code",
   "execution_count": null,
   "id": "edb6f9ee",
   "metadata": {},
   "outputs": [],
   "source": [
    "# Example test case\n",
    "head_list = [1, 2, 3, 4, 5]\n",
    "expected_list = [5, 4, 3, 2, 1]"
   ]
  },
  {
   "cell_type": "code",
   "execution_count": null,
   "id": "8f0bd42d",
   "metadata": {},
   "outputs": [],
   "source": [
    "result = run_reverse_list(Solution, head_list)\n",
    "result"
   ]
  },
  {
   "cell_type": "code",
   "execution_count": null,
   "id": "0ab1ff09",
   "metadata": {},
   "outputs": [],
   "source": [
    "assert_reverse_list(result, expected_list)"
   ]
  }
 ],
 "metadata": {
  "jupytext": {
   "formats": "ipynb,py:percent"
  },
  "kernelspec": {
   "display_name": "leetcode-py-py3.13",
   "language": "python",
   "name": "python3"
  }
 },
 "nbformat": 4,
 "nbformat_minor": 5
}
