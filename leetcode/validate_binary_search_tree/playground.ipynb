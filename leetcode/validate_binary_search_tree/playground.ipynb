{
 "cells": [
  {
   "cell_type": "code",
   "execution_count": null,
   "id": "6628a343",
   "metadata": {},
   "outputs": [],
   "source": [
    "from helpers import assert_is_valid_bst, run_is_valid_bst\n",
    "from solution import Solution"
   ]
  },
  {
   "cell_type": "code",
   "execution_count": null,
   "id": "f4b19e5e",
   "metadata": {},
   "outputs": [],
   "source": [
    "# Example test case\n",
    "root_list = [2, 1, 3]\n",
    "expected = True"
   ]
  },
  {
   "cell_type": "code",
   "execution_count": null,
   "id": "66a23c20",
   "metadata": {},
   "outputs": [],
   "source": [
    "result = run_is_valid_bst(Solution, root_list)\n",
    "result"
   ]
  },
  {
   "cell_type": "code",
   "execution_count": null,
   "id": "602ffe83",
   "metadata": {},
   "outputs": [],
   "source": [
    "assert_is_valid_bst(result, expected)"
   ]
  }
 ],
 "metadata": {
  "jupytext": {
   "formats": "ipynb,py:percent"
  },
  "kernelspec": {
   "display_name": "leetcode-py-py3.13",
   "language": "python",
   "name": "python3"
  }
 },
 "nbformat": 4,
 "nbformat_minor": 5
}
