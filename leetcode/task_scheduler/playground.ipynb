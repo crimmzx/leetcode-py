{
 "cells": [
  {
   "cell_type": "code",
   "execution_count": null,
   "id": "bb3c6044",
   "metadata": {},
   "outputs": [],
   "source": [
    "from helpers import assert_least_interval, run_least_interval\n",
    "from solution import Solution"
   ]
  },
  {
   "cell_type": "code",
   "execution_count": null,
   "id": "bfe16107",
   "metadata": {},
   "outputs": [],
   "source": [
    "# Example test case\n",
    "tasks = [\"A\", \"A\", \"A\", \"B\", \"B\", \"B\"]\n",
    "n = 2\n",
    "expected = 8"
   ]
  },
  {
   "cell_type": "code",
   "execution_count": null,
   "id": "1e31eb44",
   "metadata": {},
   "outputs": [],
   "source": [
    "result = run_least_interval(Solution, tasks, n)\n",
    "result"
   ]
  },
  {
   "cell_type": "code",
   "execution_count": null,
   "id": "9511caed",
   "metadata": {},
   "outputs": [],
   "source": [
    "assert_least_interval(result, expected)"
   ]
  }
 ],
 "metadata": {
  "jupytext": {
   "formats": "ipynb,py:percent"
  },
  "kernelspec": {
   "display_name": "leetcode-py-py3.13",
   "language": "python",
   "name": "python3"
  }
 },
 "nbformat": 4,
 "nbformat_minor": 5
}
