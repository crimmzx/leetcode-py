{
 "cells": [
  {
   "cell_type": "code",
   "execution_count": null,
   "id": "fd5f7e8d",
   "metadata": {},
   "outputs": [],
   "source": [
    "from helpers import assert_has_cycle, create_cycle_list, run_has_cycle\n",
    "from solution import Solution"
   ]
  },
  {
   "cell_type": "code",
   "execution_count": null,
   "id": "b476008f",
   "metadata": {},
   "outputs": [],
   "source": [
    "# Example test case\n",
    "values = [3, 2, 0, -4]\n",
    "pos = 1\n",
    "expected = True"
   ]
  },
  {
   "cell_type": "code",
   "execution_count": null,
   "id": "61af81b8",
   "metadata": {},
   "outputs": [],
   "source": [
    "head = create_cycle_list(values, pos)\n",
    "head"
   ]
  },
  {
   "cell_type": "code",
   "execution_count": null,
   "id": "6e1ec49c",
   "metadata": {},
   "outputs": [],
   "source": [
    "result = run_has_cycle(Solution, values, pos)\n",
    "result"
   ]
  },
  {
   "cell_type": "code",
   "execution_count": null,
   "id": "c390c71c",
   "metadata": {},
   "outputs": [],
   "source": [
    "assert_has_cycle(result, expected)"
   ]
  }
 ],
 "metadata": {
  "jupytext": {
   "formats": "ipynb,py:percent"
  },
  "kernelspec": {
   "display_name": "leetcode-py-py3.13",
   "language": "python",
   "name": "python3"
  }
 },
 "nbformat": 4,
 "nbformat_minor": 5
}
