{
 "cells": [
  {
   "cell_type": "code",
   "execution_count": null,
   "id": "9039cc8e",
   "metadata": {},
   "outputs": [],
   "source": [
    "from helpers import assert_can_construct, run_can_construct\n",
    "from solution import Solution"
   ]
  },
  {
   "cell_type": "code",
   "execution_count": null,
   "id": "9563665e",
   "metadata": {},
   "outputs": [],
   "source": [
    "# Example test case\n",
    "ransom_note = \"aa\"\n",
    "magazine = \"aab\"\n",
    "expected = True"
   ]
  },
  {
   "cell_type": "code",
   "execution_count": null,
   "id": "0674fec7",
   "metadata": {},
   "outputs": [],
   "source": [
    "result = run_can_construct(Solution, ransom_note, magazine)\n",
    "result"
   ]
  },
  {
   "cell_type": "code",
   "execution_count": null,
   "id": "0938f074",
   "metadata": {},
   "outputs": [],
   "source": [
    "assert_can_construct(result, expected)"
   ]
  }
 ],
 "metadata": {
  "jupytext": {
   "formats": "ipynb,py:percent"
  },
  "kernelspec": {
   "display_name": "leetcode-py-py3.13",
   "language": "python",
   "name": "python3"
  }
 },
 "nbformat": 4,
 "nbformat_minor": 5
}
