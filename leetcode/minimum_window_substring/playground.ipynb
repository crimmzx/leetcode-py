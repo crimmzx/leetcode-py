{
 "cells": [
  {
   "cell_type": "code",
   "execution_count": null,
   "id": "1863b0f0",
   "metadata": {},
   "outputs": [],
   "source": [
    "from helpers import assert_min_window, run_min_window\n",
    "from solution import Solution"
   ]
  },
  {
   "cell_type": "code",
   "execution_count": null,
   "id": "e6420770",
   "metadata": {},
   "outputs": [],
   "source": [
    "# Example test case\n",
    "s = \"ADOBECODEBANC\"\n",
    "t = \"ABC\"\n",
    "expected = \"BANC\""
   ]
  },
  {
   "cell_type": "code",
   "execution_count": null,
   "id": "76e8ffec",
   "metadata": {},
   "outputs": [],
   "source": [
    "result = run_min_window(Solution, s, t)\n",
    "result"
   ]
  },
  {
   "cell_type": "code",
   "execution_count": null,
   "id": "d2512be1",
   "metadata": {},
   "outputs": [],
   "source": [
    "assert_min_window(result, expected)"
   ]
  }
 ],
 "metadata": {
  "jupytext": {
   "formats": "ipynb,py:percent"
  },
  "kernelspec": {
   "display_name": "leetcode-py-py3.13",
   "language": "python",
   "name": "python3"
  }
 },
 "nbformat": 4,
 "nbformat_minor": 5
}
