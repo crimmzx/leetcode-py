{
 "cells": [
  {
   "cell_type": "code",
   "execution_count": null,
   "id": "d2a7f8d5",
   "metadata": {},
   "outputs": [],
   "source": [
    "from helpers import assert_update_matrix, run_update_matrix\n",
    "from solution import Solution"
   ]
  },
  {
   "cell_type": "code",
   "execution_count": null,
   "id": "5f67fd33",
   "metadata": {},
   "outputs": [],
   "source": [
    "# Example test case\n",
    "mat = [[0, 0, 0], [0, 1, 0], [1, 1, 1]]\n",
    "expected = [[0, 0, 0], [0, 1, 0], [1, 2, 1]]"
   ]
  },
  {
   "cell_type": "code",
   "execution_count": null,
   "id": "efc3bfc6",
   "metadata": {},
   "outputs": [],
   "source": [
    "result = run_update_matrix(Solution, mat)\n",
    "result"
   ]
  },
  {
   "cell_type": "code",
   "execution_count": null,
   "id": "b97f06e0",
   "metadata": {},
   "outputs": [],
   "source": [
    "assert_update_matrix(result, expected)"
   ]
  }
 ],
 "metadata": {
  "jupytext": {
   "formats": "ipynb,py:percent"
  },
  "kernelspec": {
   "display_name": "leetcode-py-py3.13",
   "language": "python",
   "name": "python3"
  }
 },
 "nbformat": 4,
 "nbformat_minor": 5
}
