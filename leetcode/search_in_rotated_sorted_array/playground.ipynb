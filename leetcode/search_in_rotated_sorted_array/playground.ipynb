{
 "cells": [
  {
   "cell_type": "code",
   "execution_count": null,
   "id": "9b04ddb0",
   "metadata": {},
   "outputs": [],
   "source": [
    "from helpers import assert_search, run_search\n",
    "from solution import Solution"
   ]
  },
  {
   "cell_type": "code",
   "execution_count": null,
   "id": "72a31fc2",
   "metadata": {},
   "outputs": [],
   "source": [
    "# Example test case\n",
    "nums = [4, 5, 6, 7, 0, 1, 2]\n",
    "target = 0\n",
    "expected = 4"
   ]
  },
  {
   "cell_type": "code",
   "execution_count": null,
   "id": "d967f5a7",
   "metadata": {},
   "outputs": [],
   "source": [
    "result = run_search(Solution, nums, target)\n",
    "result"
   ]
  },
  {
   "cell_type": "code",
   "execution_count": null,
   "id": "5d31022d",
   "metadata": {},
   "outputs": [],
   "source": [
    "assert_search(result, expected)"
   ]
  }
 ],
 "metadata": {
  "jupytext": {
   "formats": "ipynb,py:percent"
  },
  "kernelspec": {
   "display_name": "leetcode-py-py3.13",
   "language": "python",
   "name": "python3"
  }
 },
 "nbformat": 4,
 "nbformat_minor": 5
}
