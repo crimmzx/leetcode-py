{
 "cells": [
  {
   "cell_type": "code",
   "execution_count": null,
   "id": "e16d11b3",
   "metadata": {},
   "outputs": [],
   "source": [
    "from helpers import assert_calculate, run_calculate\n",
    "from solution import Solution"
   ]
  },
  {
   "cell_type": "code",
   "execution_count": null,
   "id": "5ecc025e",
   "metadata": {},
   "outputs": [],
   "source": [
    "# Example test case\n",
    "s = \"(1+(4+5+2)-3)+(6+8)\"\n",
    "expected = 23"
   ]
  },
  {
   "cell_type": "code",
   "execution_count": null,
   "id": "c0b03d19",
   "metadata": {},
   "outputs": [],
   "source": [
    "result = run_calculate(Solution, s)\n",
    "result"
   ]
  },
  {
   "cell_type": "code",
   "execution_count": null,
   "id": "de6f6749",
   "metadata": {},
   "outputs": [],
   "source": [
    "assert_calculate(result, expected)"
   ]
  }
 ],
 "metadata": {
  "jupytext": {
   "formats": "ipynb,py:percent"
  },
  "kernelspec": {
   "display_name": "leetcode-py-py3.13",
   "language": "python",
   "name": "python3"
  }
 },
 "nbformat": 4,
 "nbformat_minor": 5
}
