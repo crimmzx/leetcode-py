{
 "cells": [
  {
   "cell_type": "code",
   "execution_count": null,
   "id": "f0b70783",
   "metadata": {},
   "outputs": [],
   "source": [
    "from helpers import assert_pacific_atlantic, run_pacific_atlantic\n",
    "from solution import Solution"
   ]
  },
  {
   "cell_type": "code",
   "execution_count": null,
   "id": "168c09e7",
   "metadata": {},
   "outputs": [],
   "source": [
    "# Example test case\n",
    "heights = [[1, 2, 2, 3, 5], [3, 2, 3, 4, 4], [2, 4, 5, 3, 1], [6, 7, 1, 4, 5], [5, 1, 1, 2, 4]]\n",
    "expected = [[0, 4], [1, 3], [1, 4], [2, 2], [3, 0], [3, 1], [4, 0]]"
   ]
  },
  {
   "cell_type": "code",
   "execution_count": null,
   "id": "9c68286c",
   "metadata": {},
   "outputs": [],
   "source": [
    "result = run_pacific_atlantic(Solution, heights)\n",
    "result"
   ]
  },
  {
   "cell_type": "code",
   "execution_count": null,
   "id": "defabc1f",
   "metadata": {},
   "outputs": [],
   "source": [
    "assert_pacific_atlantic(result, expected)"
   ]
  }
 ],
 "metadata": {
  "kernelspec": {
   "display_name": "leetcode-py-py3.13",
   "language": "python",
   "name": "python3"
  }
 },
 "nbformat": 4,
 "nbformat_minor": 5
}
