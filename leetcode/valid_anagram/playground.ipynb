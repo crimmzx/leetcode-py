{
 "cells": [
  {
   "cell_type": "code",
   "execution_count": null,
   "id": "1706a133",
   "metadata": {},
   "outputs": [],
   "source": [
    "from helpers import assert_is_anagram, run_is_anagram\n",
    "from solution import Solution"
   ]
  },
  {
   "cell_type": "code",
   "execution_count": null,
   "id": "f6ab2584",
   "metadata": {},
   "outputs": [],
   "source": [
    "# Example test case\n",
    "s = \"anagram\"\n",
    "t = \"nagaram\"\n",
    "expected = True"
   ]
  },
  {
   "cell_type": "code",
   "execution_count": null,
   "id": "97e8aae5",
   "metadata": {},
   "outputs": [],
   "source": [
    "result = run_is_anagram(Solution, s, t)\n",
    "result"
   ]
  },
  {
   "cell_type": "code",
   "execution_count": null,
   "id": "94030061",
   "metadata": {},
   "outputs": [],
   "source": [
    "assert_is_anagram(result, expected)"
   ]
  }
 ],
 "metadata": {
  "jupytext": {
   "formats": "ipynb,py:percent"
  },
  "kernelspec": {
   "display_name": "leetcode-py-py3.13",
   "language": "python",
   "name": "python3"
  }
 },
 "nbformat": 4,
 "nbformat_minor": 5
}
