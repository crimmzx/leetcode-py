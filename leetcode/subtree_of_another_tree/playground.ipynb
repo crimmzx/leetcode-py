{
 "cells": [
  {
   "cell_type": "code",
   "execution_count": null,
   "id": "df964138",
   "metadata": {},
   "outputs": [],
   "source": [
    "from helpers import assert_is_subtree, run_is_subtree\n",
    "from solution import Solution"
   ]
  },
  {
   "cell_type": "code",
   "execution_count": null,
   "id": "80f57a00",
   "metadata": {},
   "outputs": [],
   "source": [
    "# Example test case\n",
    "root_list: list[int | None] = [3, 4, 5, 1, 2]\n",
    "sub_root_list: list[int | None] = [4, 1, 2]\n",
    "expected = True"
   ]
  },
  {
   "cell_type": "code",
   "execution_count": null,
   "id": "67499b7e",
   "metadata": {},
   "outputs": [],
   "source": [
    "result = run_is_subtree(Solution, root_list, sub_root_list)\n",
    "result"
   ]
  },
  {
   "cell_type": "code",
   "execution_count": null,
   "id": "c0548199",
   "metadata": {},
   "outputs": [],
   "source": [
    "assert_is_subtree(result, expected)"
   ]
  }
 ],
 "metadata": {
  "kernelspec": {
   "display_name": "leetcode-py-py3.13",
   "language": "python",
   "name": "python3"
  }
 },
 "nbformat": 4,
 "nbformat_minor": 5
}
