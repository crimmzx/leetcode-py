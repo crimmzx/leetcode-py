{
 "cells": [
  {
   "cell_type": "code",
   "execution_count": null,
   "id": "b8df623c",
   "metadata": {},
   "outputs": [],
   "source": [
    "from helpers import assert_unique_paths, run_unique_paths\n",
    "from solution import Solution"
   ]
  },
  {
   "cell_type": "code",
   "execution_count": null,
   "id": "52572cb9",
   "metadata": {},
   "outputs": [],
   "source": [
    "# Example test case\n",
    "m = 3\n",
    "n = 7\n",
    "expected = 28"
   ]
  },
  {
   "cell_type": "code",
   "execution_count": null,
   "id": "c744262f",
   "metadata": {},
   "outputs": [],
   "source": [
    "result = run_unique_paths(Solution, m, n)\n",
    "result"
   ]
  },
  {
   "cell_type": "code",
   "execution_count": null,
   "id": "76d19a1f",
   "metadata": {},
   "outputs": [],
   "source": [
    "assert_unique_paths(result, expected)"
   ]
  }
 ],
 "metadata": {
  "kernelspec": {
   "display_name": "leetcode-py-py3.13",
   "language": "python",
   "name": "python3"
  }
 },
 "nbformat": 4,
 "nbformat_minor": 5
}
