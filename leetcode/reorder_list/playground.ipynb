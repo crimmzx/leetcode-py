{
 "cells": [
  {
   "cell_type": "code",
   "execution_count": null,
   "id": "6706022b",
   "metadata": {},
   "outputs": [],
   "source": [
    "from helpers import assert_reorder_list, run_reorder_list\n",
    "from solution import Solution"
   ]
  },
  {
   "cell_type": "code",
   "execution_count": null,
   "id": "5ee1e32c",
   "metadata": {},
   "outputs": [],
   "source": [
    "# Example test case\n",
    "head_list: list[int] = [1, 2, 3, 4]\n",
    "expected: list[int] = [1, 4, 2, 3]"
   ]
  },
  {
   "cell_type": "code",
   "execution_count": null,
   "id": "9c549f2d",
   "metadata": {},
   "outputs": [],
   "source": [
    "result = run_reorder_list(Solution, head_list)\n",
    "result"
   ]
  },
  {
   "cell_type": "code",
   "execution_count": null,
   "id": "85154bda",
   "metadata": {},
   "outputs": [],
   "source": [
    "assert_reorder_list(result, expected)"
   ]
  }
 ],
 "metadata": {
  "kernelspec": {
   "display_name": "leetcode-py-py3.13",
   "language": "python",
   "name": "python3"
  }
 },
 "nbformat": 4,
 "nbformat_minor": 5
}
