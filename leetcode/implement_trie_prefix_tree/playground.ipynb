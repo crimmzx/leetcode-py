{
 "cells": [
  {
   "cell_type": "code",
   "execution_count": null,
   "id": "474f2fb3",
   "metadata": {},
   "outputs": [],
   "source": [
    "from helpers import assert_trie_operations, run_trie_operations\n",
    "from solution import Trie"
   ]
  },
  {
   "cell_type": "code",
   "execution_count": null,
   "id": "fbcd683e",
   "metadata": {},
   "outputs": [],
   "source": [
    "# Example test case\n",
    "operations = [\"Trie\", \"insert\", \"search\", \"search\", \"starts_with\", \"insert\", \"search\"]\n",
    "inputs = [[], [\"apple\"], [\"apple\"], [\"app\"], [\"app\"], [\"app\"], [\"app\"]]\n",
    "expected = [None, None, True, False, True, None, True]"
   ]
  },
  {
   "cell_type": "code",
   "execution_count": null,
   "id": "518adcbc",
   "metadata": {},
   "outputs": [],
   "source": [
    "result, trie = run_trie_operations(Trie, operations, inputs)\n",
    "print(result)\n",
    "trie"
   ]
  },
  {
   "cell_type": "code",
   "execution_count": null,
   "id": "deb75720",
   "metadata": {},
   "outputs": [],
   "source": [
    "assert_trie_operations(result, expected)"
   ]
  }
 ],
 "metadata": {
  "jupytext": {
   "formats": "ipynb,py:percent"
  },
  "kernelspec": {
   "display_name": "leetcode-py-py3.13",
   "language": "python",
   "name": "python3"
  }
 },
 "nbformat": 4,
 "nbformat_minor": 5
}
