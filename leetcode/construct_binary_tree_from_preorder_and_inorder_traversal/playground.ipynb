{
 "cells": [
  {
   "cell_type": "code",
   "execution_count": null,
   "id": "e3402e01",
   "metadata": {},
   "outputs": [],
   "source": [
    "from helpers import assert_build_tree, run_build_tree\n",
    "from solution import Solution"
   ]
  },
  {
   "cell_type": "code",
   "execution_count": null,
   "id": "2f260f73",
   "metadata": {},
   "outputs": [],
   "source": [
    "# Example test case\n",
    "preorder = [3, 9, 20, 15, 7]\n",
    "inorder = [9, 3, 15, 20, 7]\n",
    "expected_list = [3, 9, 20, None, None, 15, 7]"
   ]
  },
  {
   "cell_type": "code",
   "execution_count": null,
   "id": "9f7c9a84",
   "metadata": {},
   "outputs": [],
   "source": [
    "result = run_build_tree(Solution, preorder, inorder)\n",
    "result"
   ]
  },
  {
   "cell_type": "code",
   "execution_count": null,
   "id": "cac9c00c",
   "metadata": {},
   "outputs": [],
   "source": [
    "assert_build_tree(result, expected_list)"
   ]
  }
 ],
 "metadata": {
  "kernelspec": {
   "display_name": "leetcode-py-py3.13",
   "language": "python",
   "name": "python3"
  }
 },
 "nbformat": 4,
 "nbformat_minor": 5
}
