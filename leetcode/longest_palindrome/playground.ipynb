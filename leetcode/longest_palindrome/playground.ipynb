{
 "cells": [
  {
   "cell_type": "code",
   "execution_count": null,
   "id": "f9cb66f0",
   "metadata": {},
   "outputs": [],
   "source": [
    "from helpers import assert_longest_palindrome, run_longest_palindrome\n",
    "from solution import Solution"
   ]
  },
  {
   "cell_type": "code",
   "execution_count": null,
   "id": "1f72e2bf",
   "metadata": {},
   "outputs": [],
   "source": [
    "# Example test case\n",
    "s = \"abccccdd\"\n",
    "expected = 7"
   ]
  },
  {
   "cell_type": "code",
   "execution_count": null,
   "id": "4c3182a1",
   "metadata": {},
   "outputs": [],
   "source": [
    "result = run_longest_palindrome(Solution, s)\n",
    "result"
   ]
  },
  {
   "cell_type": "code",
   "execution_count": null,
   "id": "8b88a907",
   "metadata": {},
   "outputs": [],
   "source": [
    "assert_longest_palindrome(result, expected)"
   ]
  }
 ],
 "metadata": {
  "jupytext": {
   "formats": "ipynb,py:percent"
  },
  "kernelspec": {
   "display_name": "leetcode-py-py3.13",
   "language": "python",
   "name": "python3"
  }
 },
 "nbformat": 4,
 "nbformat_minor": 5
}
