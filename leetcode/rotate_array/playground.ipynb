{
 "cells": [
  {
   "cell_type": "code",
   "execution_count": null,
   "id": "6f5dedc4",
   "metadata": {},
   "outputs": [],
   "source": [
    "from helpers import assert_rotate, run_rotate\n",
    "from solution import Solution"
   ]
  },
  {
   "cell_type": "code",
   "execution_count": null,
   "id": "e46797e6",
   "metadata": {},
   "outputs": [],
   "source": [
    "# Example test case\n",
    "nums = [1, 2, 3, 4, 5, 6, 7]\n",
    "k = 3\n",
    "expected = [5, 6, 7, 1, 2, 3, 4]"
   ]
  },
  {
   "cell_type": "code",
   "execution_count": null,
   "id": "3dac1d75",
   "metadata": {},
   "outputs": [],
   "source": [
    "result = run_rotate(Solution, nums, k)\n",
    "result"
   ]
  },
  {
   "cell_type": "code",
   "execution_count": null,
   "id": "5d561e99",
   "metadata": {},
   "outputs": [],
   "source": [
    "assert_rotate(result, expected)"
   ]
  }
 ],
 "metadata": {
  "kernelspec": {
   "display_name": "leetcode-py-py3.13",
   "language": "python",
   "name": "python3"
  }
 },
 "nbformat": 4,
 "nbformat_minor": 5
}
