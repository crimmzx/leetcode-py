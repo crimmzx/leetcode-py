{
 "cells": [
  {
   "cell_type": "code",
   "execution_count": null,
   "id": "4c250240",
   "metadata": {},
   "outputs": [],
   "source": [
    "from helpers import assert_can_jump, run_can_jump\n",
    "from solution import Solution"
   ]
  },
  {
   "cell_type": "code",
   "execution_count": null,
   "id": "994b9334",
   "metadata": {},
   "outputs": [],
   "source": [
    "# Example test case\n",
    "nums = [2, 3, 1, 1, 4]\n",
    "expected = True"
   ]
  },
  {
   "cell_type": "code",
   "execution_count": null,
   "id": "5df56f18",
   "metadata": {},
   "outputs": [],
   "source": [
    "result = run_can_jump(Solution, nums)\n",
    "result"
   ]
  },
  {
   "cell_type": "code",
   "execution_count": null,
   "id": "975022f6",
   "metadata": {},
   "outputs": [],
   "source": [
    "assert_can_jump(result, expected)"
   ]
  }
 ],
 "metadata": {
  "kernelspec": {
   "display_name": "leetcode-py-py3.13",
   "language": "python",
   "name": "python3"
  }
 },
 "nbformat": 4,
 "nbformat_minor": 5
}
