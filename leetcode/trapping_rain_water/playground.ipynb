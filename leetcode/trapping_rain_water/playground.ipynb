{
 "cells": [
  {
   "cell_type": "code",
   "execution_count": null,
   "id": "2c04e6ef",
   "metadata": {},
   "outputs": [],
   "source": [
    "from helpers import assert_trap, run_trap\n",
    "from solution import Solution"
   ]
  },
  {
   "cell_type": "code",
   "execution_count": null,
   "id": "fee0be93",
   "metadata": {},
   "outputs": [],
   "source": [
    "# Example test case\n",
    "height = [0, 1, 0, 2, 1, 0, 1, 3, 2, 1, 2, 1]\n",
    "expected = 6"
   ]
  },
  {
   "cell_type": "code",
   "execution_count": null,
   "id": "73aa6382",
   "metadata": {},
   "outputs": [],
   "source": [
    "result = run_trap(Solution, height)\n",
    "result"
   ]
  },
  {
   "cell_type": "code",
   "execution_count": null,
   "id": "be5049b8",
   "metadata": {},
   "outputs": [],
   "source": [
    "assert_trap(result, expected)"
   ]
  }
 ],
 "metadata": {
  "jupytext": {
   "formats": "ipynb,py:percent"
  },
  "kernelspec": {
   "display_name": "leetcode-py-py3.13",
   "language": "python",
   "name": "python3"
  }
 },
 "nbformat": 4,
 "nbformat_minor": 5
}
