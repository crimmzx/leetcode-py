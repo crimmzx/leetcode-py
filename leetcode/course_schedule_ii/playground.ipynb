{
 "cells": [
  {
   "cell_type": "code",
   "execution_count": null,
   "id": "57361907",
   "metadata": {},
   "outputs": [],
   "source": [
    "from helpers import assert_find_order, run_find_order\n",
    "from solution import Solution"
   ]
  },
  {
   "cell_type": "code",
   "execution_count": null,
   "id": "42316f53",
   "metadata": {},
   "outputs": [],
   "source": [
    "# Example test case\n",
    "num_courses = 4\n",
    "prerequisites = [[1, 0], [2, 0], [3, 1], [3, 2]]\n",
    "expected = [0, 2, 1, 3]"
   ]
  },
  {
   "cell_type": "code",
   "execution_count": null,
   "id": "4d463b39",
   "metadata": {},
   "outputs": [],
   "source": [
    "result = run_find_order(Solution, num_courses, prerequisites)\n",
    "result"
   ]
  },
  {
   "cell_type": "code",
   "execution_count": null,
   "id": "23a85c56",
   "metadata": {},
   "outputs": [],
   "source": [
    "assert_find_order(result, expected)"
   ]
  }
 ],
 "metadata": {
  "kernelspec": {
   "display_name": "leetcode-py-py3.13",
   "language": "python",
   "name": "python3"
  }
 },
 "nbformat": 4,
 "nbformat_minor": 5
}
