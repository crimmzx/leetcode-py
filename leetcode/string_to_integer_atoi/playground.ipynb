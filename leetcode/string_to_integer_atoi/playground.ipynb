{
 "cells": [
  {
   "cell_type": "code",
   "execution_count": null,
   "id": "d7f9ea1e",
   "metadata": {},
   "outputs": [],
   "source": [
    "from helpers import assert_my_atoi, run_my_atoi\n",
    "from solution import Solution"
   ]
  },
  {
   "cell_type": "code",
   "execution_count": null,
   "id": "f1ba60b5",
   "metadata": {},
   "outputs": [],
   "source": [
    "# Example test case\n",
    "s = \"42\"\n",
    "expected = 42"
   ]
  },
  {
   "cell_type": "code",
   "execution_count": null,
   "id": "191be9dd",
   "metadata": {},
   "outputs": [],
   "source": [
    "result = run_my_atoi(Solution, s)\n",
    "result"
   ]
  },
  {
   "cell_type": "code",
   "execution_count": null,
   "id": "f7b64ab1",
   "metadata": {},
   "outputs": [],
   "source": [
    "assert_my_atoi(result, expected)"
   ]
  }
 ],
 "metadata": {
  "jupytext": {
   "formats": "ipynb,py:percent"
  },
  "kernelspec": {
   "display_name": "leetcode-py-py3.13",
   "language": "python",
   "name": "python3"
  }
 },
 "nbformat": 4,
 "nbformat_minor": 5
}
