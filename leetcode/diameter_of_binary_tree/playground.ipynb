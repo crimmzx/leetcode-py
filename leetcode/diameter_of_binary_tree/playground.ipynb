{
 "cells": [
  {
   "cell_type": "code",
   "execution_count": null,
   "id": "f52a9bd1",
   "metadata": {},
   "outputs": [],
   "source": [
    "from helpers import assert_diameter_of_binary_tree, run_diameter_of_binary_tree\n",
    "from solution import Solution"
   ]
  },
  {
   "cell_type": "code",
   "execution_count": null,
   "id": "6e2bfe0a",
   "metadata": {},
   "outputs": [],
   "source": [
    "# Example test case\n",
    "root_list: list[int | None] = [1, 2, 3, 4, 5]\n",
    "expected = 3"
   ]
  },
  {
   "cell_type": "code",
   "execution_count": null,
   "id": "9edac9cb",
   "metadata": {},
   "outputs": [],
   "source": [
    "result = run_diameter_of_binary_tree(Solution, root_list)\n",
    "result"
   ]
  },
  {
   "cell_type": "code",
   "execution_count": null,
   "id": "8ea46c64",
   "metadata": {},
   "outputs": [],
   "source": [
    "assert_diameter_of_binary_tree(result, expected)"
   ]
  }
 ],
 "metadata": {
  "jupytext": {
   "formats": "ipynb,py:percent"
  },
  "kernelspec": {
   "display_name": "leetcode-py-py3.13",
   "language": "python",
   "name": "python3"
  }
 },
 "nbformat": 4,
 "nbformat_minor": 5
}
