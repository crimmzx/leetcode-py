{
 "cells": [
  {
   "cell_type": "code",
   "execution_count": null,
   "id": "43293c0e",
   "metadata": {},
   "outputs": [],
   "source": [
    "from helpers import assert_find_anagrams, run_find_anagrams\n",
    "from solution import Solution"
   ]
  },
  {
   "cell_type": "code",
   "execution_count": null,
   "id": "d45b762f",
   "metadata": {},
   "outputs": [],
   "source": [
    "# Example test case\n",
    "s = \"cbaebabacd\"\n",
    "p = \"abc\"\n",
    "expected = [0, 6]"
   ]
  },
  {
   "cell_type": "code",
   "execution_count": null,
   "id": "5420f66e",
   "metadata": {},
   "outputs": [],
   "source": [
    "result = run_find_anagrams(Solution, s, p)\n",
    "result"
   ]
  },
  {
   "cell_type": "code",
   "execution_count": null,
   "id": "3564620a",
   "metadata": {},
   "outputs": [],
   "source": [
    "assert_find_anagrams(result, expected)"
   ]
  }
 ],
 "metadata": {
  "kernelspec": {
   "display_name": "leetcode-py-py3.13",
   "language": "python",
   "name": "python3"
  }
 },
 "nbformat": 4,
 "nbformat_minor": 5
}
