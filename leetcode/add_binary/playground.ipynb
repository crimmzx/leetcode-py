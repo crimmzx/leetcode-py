{
 "cells": [
  {
   "cell_type": "code",
   "execution_count": null,
   "id": "8678b01c",
   "metadata": {},
   "outputs": [],
   "source": [
    "from helpers import assert_add_binary, run_add_binary\n",
    "from solution import Solution"
   ]
  },
  {
   "cell_type": "code",
   "execution_count": null,
   "id": "e9fd7e3c",
   "metadata": {},
   "outputs": [],
   "source": [
    "# Example test case\n",
    "a = \"11\"\n",
    "b = \"1\"\n",
    "expected = \"100\""
   ]
  },
  {
   "cell_type": "code",
   "execution_count": null,
   "id": "56368441",
   "metadata": {},
   "outputs": [],
   "source": [
    "result = run_add_binary(Solution, a, b)\n",
    "result"
   ]
  },
  {
   "cell_type": "code",
   "execution_count": null,
   "id": "11a1ee58",
   "metadata": {},
   "outputs": [],
   "source": [
    "assert_add_binary(result, expected)"
   ]
  }
 ],
 "metadata": {
  "kernelspec": {
   "display_name": "leetcode-py-py3.13",
   "language": "python",
   "name": "python3"
  }
 },
 "nbformat": 4,
 "nbformat_minor": 5
}
