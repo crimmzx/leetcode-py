{
 "cells": [
  {
   "cell_type": "code",
   "execution_count": null,
   "id": "0d1de553",
   "metadata": {},
   "outputs": [],
   "source": [
    "from helpers import assert_get_sum, run_get_sum\n",
    "from solution import Solution"
   ]
  },
  {
   "cell_type": "code",
   "execution_count": null,
   "id": "d06b7a67",
   "metadata": {},
   "outputs": [],
   "source": [
    "# Example test case\n",
    "a = 1\n",
    "b = 2\n",
    "expected = 3"
   ]
  },
  {
   "cell_type": "code",
   "execution_count": null,
   "id": "710270d3",
   "metadata": {},
   "outputs": [],
   "source": [
    "result = run_get_sum(Solution, a, b)\n",
    "result"
   ]
  },
  {
   "cell_type": "code",
   "execution_count": null,
   "id": "ebc51f09",
   "metadata": {},
   "outputs": [],
   "source": [
    "assert_get_sum(result, expected)"
   ]
  }
 ],
 "metadata": {
  "kernelspec": {
   "display_name": "leetcode-py-py3.13",
   "language": "python",
   "name": "python3"
  }
 },
 "nbformat": 4,
 "nbformat_minor": 5
}
