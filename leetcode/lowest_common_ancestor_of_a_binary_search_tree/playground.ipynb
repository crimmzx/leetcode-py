{
 "cells": [
  {
   "cell_type": "code",
   "execution_count": null,
   "id": "1c99ec5b",
   "metadata": {},
   "outputs": [],
   "source": [
    "from helpers import assert_lowest_common_ancestor, run_lowest_common_ancestor\n",
    "from solution import Solution"
   ]
  },
  {
   "cell_type": "code",
   "execution_count": null,
   "id": "82b4e6cc",
   "metadata": {},
   "outputs": [],
   "source": [
    "# Example test case\n",
    "root_list = [6, 2, 8, 0, 4, 7, 9, None, None, 3, 5]\n",
    "p_val = 2\n",
    "q_val = 8\n",
    "expected_val = 6"
   ]
  },
  {
   "cell_type": "code",
   "execution_count": null,
   "id": "cc5ab2fd",
   "metadata": {},
   "outputs": [],
   "source": [
    "result = run_lowest_common_ancestor(Solution, root_list, p_val, q_val)\n",
    "result.val if result else None"
   ]
  },
  {
   "cell_type": "code",
   "execution_count": null,
   "id": "c221bbe3",
   "metadata": {},
   "outputs": [],
   "source": [
    "assert_lowest_common_ancestor(result, expected_val)"
   ]
  }
 ],
 "metadata": {
  "jupytext": {
   "formats": "ipynb,py:percent"
  },
  "kernelspec": {
   "display_name": "leetcode-py-py3.13",
   "language": "python",
   "name": "python3"
  }
 },
 "nbformat": 4,
 "nbformat_minor": 5
}
