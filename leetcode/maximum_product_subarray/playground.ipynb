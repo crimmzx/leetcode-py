{
 "cells": [
  {
   "cell_type": "code",
   "execution_count": null,
   "id": "a03b2617",
   "metadata": {},
   "outputs": [],
   "source": [
    "from helpers import assert_max_product, run_max_product\n",
    "from solution import Solution"
   ]
  },
  {
   "cell_type": "code",
   "execution_count": null,
   "id": "2fd7255b",
   "metadata": {},
   "outputs": [],
   "source": [
    "# Example test case\n",
    "nums = [2, 3, -2, 4]\n",
    "expected = 6"
   ]
  },
  {
   "cell_type": "code",
   "execution_count": null,
   "id": "208a5e83",
   "metadata": {},
   "outputs": [],
   "source": [
    "result = run_max_product(Solution, nums)\n",
    "result"
   ]
  },
  {
   "cell_type": "code",
   "execution_count": null,
   "id": "49d7ce69",
   "metadata": {},
   "outputs": [],
   "source": [
    "assert_max_product(result, expected)"
   ]
  }
 ],
 "metadata": {
  "kernelspec": {
   "display_name": "leetcode-py-py3.13",
   "language": "python",
   "name": "python3"
  }
 },
 "nbformat": 4,
 "nbformat_minor": 5
}
