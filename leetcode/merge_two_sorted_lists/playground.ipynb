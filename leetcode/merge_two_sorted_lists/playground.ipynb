{
 "cells": [
  {
   "cell_type": "code",
   "execution_count": null,
   "id": "6a2de4ed",
   "metadata": {},
   "outputs": [],
   "source": [
    "from helpers import assert_merge_two_lists, run_merge_two_lists\n",
    "from solution import Solution\n",
    "\n",
    "from leetcode_py import ListNode"
   ]
  },
  {
   "cell_type": "code",
   "execution_count": null,
   "id": "eceb052a",
   "metadata": {},
   "outputs": [],
   "source": [
    "# Example test case\n",
    "list1_vals = [1, 2, 4]\n",
    "list2_vals = [1, 3, 4]\n",
    "expected_vals = [1, 1, 2, 3, 4, 4]"
   ]
  },
  {
   "cell_type": "code",
   "execution_count": null,
   "id": "328884e3",
   "metadata": {},
   "outputs": [],
   "source": [
    "result = run_merge_two_lists(Solution, list1_vals, list2_vals)\n",
    "ListNode[int].to_list(result) if result else []"
   ]
  },
  {
   "cell_type": "code",
   "execution_count": null,
   "id": "a509823d",
   "metadata": {},
   "outputs": [],
   "source": [
    "assert_merge_two_lists(result, expected_vals)"
   ]
  }
 ],
 "metadata": {
  "jupytext": {
   "formats": "ipynb,py:percent"
  },
  "kernelspec": {
   "display_name": "leetcode-py-py3.13",
   "language": "python",
   "name": "python3"
  }
 },
 "nbformat": 4,
 "nbformat_minor": 5
}
