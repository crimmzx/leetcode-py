{
 "cells": [
  {
   "cell_type": "code",
   "execution_count": null,
   "id": "7b2ee9b7",
   "metadata": {},
   "outputs": [],
   "source": [
    "from helpers import assert_length_of_lis, run_length_of_lis\n",
    "from solution import Solution"
   ]
  },
  {
   "cell_type": "code",
   "execution_count": null,
   "id": "8d3a0b7a",
   "metadata": {},
   "outputs": [],
   "source": [
    "# Example test case\n",
    "nums = [10, 9, 2, 5, 3, 7, 101, 18]\n",
    "expected = 4"
   ]
  },
  {
   "cell_type": "code",
   "execution_count": null,
   "id": "7ea90fe3",
   "metadata": {},
   "outputs": [],
   "source": [
    "result = run_length_of_lis(Solution, nums)\n",
    "result"
   ]
  },
  {
   "cell_type": "code",
   "execution_count": null,
   "id": "093b1a14",
   "metadata": {},
   "outputs": [],
   "source": [
    "assert_length_of_lis(result, expected)"
   ]
  }
 ],
 "metadata": {
  "kernelspec": {
   "display_name": "leetcode-py-py3.13",
   "language": "python",
   "name": "python3"
  }
 },
 "nbformat": 4,
 "nbformat_minor": 5
}
