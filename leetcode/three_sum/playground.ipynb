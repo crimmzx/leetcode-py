{
 "cells": [
  {
   "cell_type": "code",
   "execution_count": null,
   "id": "18788709",
   "metadata": {},
   "outputs": [],
   "source": [
    "from helpers import assert_three_sum, run_three_sum\n",
    "from solution import Solution"
   ]
  },
  {
   "cell_type": "code",
   "execution_count": null,
   "id": "e0b521d2",
   "metadata": {},
   "outputs": [],
   "source": [
    "# Example test case\n",
    "nums = [-1, 0, 1, 2, -1, -4]\n",
    "expected = [[-1, -1, 2], [-1, 0, 1]]"
   ]
  },
  {
   "cell_type": "code",
   "execution_count": null,
   "id": "d6356af2",
   "metadata": {},
   "outputs": [],
   "source": [
    "result = run_three_sum(Solution, nums)\n",
    "result"
   ]
  },
  {
   "cell_type": "code",
   "execution_count": null,
   "id": "06968500",
   "metadata": {},
   "outputs": [],
   "source": [
    "assert_three_sum(result, expected)"
   ]
  }
 ],
 "metadata": {
  "jupytext": {
   "formats": "ipynb,py:percent"
  },
  "kernelspec": {
   "display_name": "leetcode-py-py3.13",
   "language": "python",
   "name": "python3"
  }
 },
 "nbformat": 4,
 "nbformat_minor": 5
}
