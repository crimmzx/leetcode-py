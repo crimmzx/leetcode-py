{
 "cells": [
  {
   "cell_type": "code",
   "execution_count": null,
   "id": "89c715e8",
   "metadata": {},
   "outputs": [],
   "source": [
    "from helpers import assert_my_queue, run_my_queue\n",
    "from solution import MyQueue"
   ]
  },
  {
   "cell_type": "code",
   "execution_count": null,
   "id": "e7b25816",
   "metadata": {},
   "outputs": [],
   "source": [
    "# Example test case\n",
    "operations = [\"MyQueue\", \"push\", \"push\", \"peek\", \"pop\", \"empty\"]\n",
    "inputs = [[], [1], [2], [], [], []]\n",
    "expected = [None, None, None, 1, 1, False]"
   ]
  },
  {
   "cell_type": "code",
   "execution_count": null,
   "id": "e7f10dbc",
   "metadata": {},
   "outputs": [],
   "source": [
    "result, queue = run_my_queue(MyQueue, operations, inputs)\n",
    "print(result)\n",
    "queue"
   ]
  },
  {
   "cell_type": "code",
   "execution_count": null,
   "id": "b30bacec",
   "metadata": {},
   "outputs": [],
   "source": [
    "assert_my_queue(result, expected)"
   ]
  }
 ],
 "metadata": {
  "jupytext": {
   "formats": "ipynb,py:percent"
  },
  "kernelspec": {
   "display_name": "leetcode-py-py3.13",
   "language": "python",
   "name": "python3"
  }
 },
 "nbformat": 4,
 "nbformat_minor": 5
}
