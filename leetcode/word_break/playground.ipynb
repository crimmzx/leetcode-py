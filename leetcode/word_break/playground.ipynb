{
 "cells": [
  {
   "cell_type": "code",
   "execution_count": null,
   "id": "e7ae47d2",
   "metadata": {},
   "outputs": [],
   "source": [
    "from helpers import assert_word_break, run_word_break\n",
    "from solution import Solution"
   ]
  },
  {
   "cell_type": "code",
   "execution_count": null,
   "id": "e4817d59",
   "metadata": {},
   "outputs": [],
   "source": [
    "# Example test case\n",
    "s = \"leetcode\"\n",
    "word_dict = [\"leet\", \"code\"]\n",
    "expected = True"
   ]
  },
  {
   "cell_type": "code",
   "execution_count": null,
   "id": "b78888fd",
   "metadata": {},
   "outputs": [],
   "source": [
    "result = run_word_break(Solution, s, word_dict)\n",
    "result"
   ]
  },
  {
   "cell_type": "code",
   "execution_count": null,
   "id": "8242ad20",
   "metadata": {},
   "outputs": [],
   "source": [
    "assert_word_break(result, expected)"
   ]
  }
 ],
 "metadata": {
  "jupytext": {
   "formats": "ipynb,py:percent"
  },
  "kernelspec": {
   "display_name": "leetcode-py-py3.13",
   "language": "python",
   "name": "python3"
  }
 },
 "nbformat": 4,
 "nbformat_minor": 5
}
