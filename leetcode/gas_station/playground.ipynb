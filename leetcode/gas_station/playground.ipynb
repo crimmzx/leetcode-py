{
 "cells": [
  {
   "cell_type": "code",
   "execution_count": null,
   "id": "c2515ccc",
   "metadata": {},
   "outputs": [],
   "source": [
    "from helpers import assert_can_complete_circuit, run_can_complete_circuit\n",
    "from solution import Solution"
   ]
  },
  {
   "cell_type": "code",
   "execution_count": null,
   "id": "089ff886",
   "metadata": {},
   "outputs": [],
   "source": [
    "# Example test case\n",
    "gas = [1, 2, 3, 4, 5]\n",
    "cost = [3, 4, 5, 1, 2]\n",
    "expected = 3"
   ]
  },
  {
   "cell_type": "code",
   "execution_count": null,
   "id": "e698b085",
   "metadata": {},
   "outputs": [],
   "source": [
    "result = run_can_complete_circuit(Solution, gas, cost)\n",
    "result"
   ]
  },
  {
   "cell_type": "code",
   "execution_count": null,
   "id": "7c4cca4c",
   "metadata": {},
   "outputs": [],
   "source": [
    "assert_can_complete_circuit(result, expected)"
   ]
  }
 ],
 "metadata": {
  "kernelspec": {
   "display_name": "leetcode-py-py3.13",
   "language": "python",
   "name": "python3"
  }
 },
 "nbformat": 4,
 "nbformat_minor": 5
}
