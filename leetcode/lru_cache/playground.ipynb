{
 "cells": [
  {
   "cell_type": "code",
   "execution_count": null,
   "id": "9721c467",
   "metadata": {},
   "outputs": [],
   "source": [
    "from helpers import assert_lru_cache, run_lru_cache\n",
    "from solution import LRUCache"
   ]
  },
  {
   "cell_type": "code",
   "execution_count": null,
   "id": "98532277",
   "metadata": {},
   "outputs": [],
   "source": [
    "# Example test case\n",
    "operations = [\"LRUCache\", \"put\", \"put\", \"get\", \"put\", \"get\", \"put\", \"get\", \"get\", \"get\"]\n",
    "inputs = [[2], [1, 1], [2, 2], [1], [3, 3], [2], [4, 4], [1], [3], [4]]\n",
    "expected = [None, None, None, 1, None, -1, None, -1, 3, 4]"
   ]
  },
  {
   "cell_type": "code",
   "execution_count": null,
   "id": "f741d637",
   "metadata": {},
   "outputs": [],
   "source": [
    "result, cache = run_lru_cache(LRUCache, operations, inputs)\n",
    "print(result)\n",
    "cache.cache"
   ]
  },
  {
   "cell_type": "code",
   "execution_count": null,
   "id": "6e04aa41",
   "metadata": {},
   "outputs": [],
   "source": [
    "assert_lru_cache(result, expected)"
   ]
  }
 ],
 "metadata": {
  "jupytext": {
   "formats": "ipynb,py:percent"
  },
  "kernelspec": {
   "display_name": "leetcode-py-py3.13",
   "language": "python",
   "name": "python3"
  }
 },
 "nbformat": 4,
 "nbformat_minor": 5
}
