{
 "cells": [
  {
   "cell_type": "code",
   "execution_count": null,
   "id": "5acd1ce6",
   "metadata": {},
   "outputs": [],
   "source": [
    "from helpers import assert_num_decodings, run_num_decodings\n",
    "from solution import Solution"
   ]
  },
  {
   "cell_type": "code",
   "execution_count": null,
   "id": "6370ab15",
   "metadata": {},
   "outputs": [],
   "source": [
    "# Example test case\n",
    "s = \"226\"\n",
    "expected = 3"
   ]
  },
  {
   "cell_type": "code",
   "execution_count": null,
   "id": "b9720bfe",
   "metadata": {},
   "outputs": [],
   "source": [
    "result = run_num_decodings(Solution, s)\n",
    "result"
   ]
  },
  {
   "cell_type": "code",
   "execution_count": null,
   "id": "6e7d35d0",
   "metadata": {},
   "outputs": [],
   "source": [
    "assert_num_decodings(result, expected)"
   ]
  }
 ],
 "metadata": {
  "kernelspec": {
   "display_name": "leetcode-py-py3.13",
   "language": "python",
   "name": "python3"
  }
 },
 "nbformat": 4,
 "nbformat_minor": 5
}
