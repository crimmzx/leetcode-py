{
 "cells": [
  {
   "cell_type": "code",
   "execution_count": null,
   "id": "e30dbcd1",
   "metadata": {},
   "outputs": [],
   "source": [
    "from helpers import assert_exist, run_exist\n",
    "from solution import Solution"
   ]
  },
  {
   "cell_type": "code",
   "execution_count": null,
   "id": "55e617fa",
   "metadata": {},
   "outputs": [],
   "source": [
    "# Example test case\n",
    "board = [[\"A\", \"B\", \"C\", \"E\"], [\"S\", \"F\", \"C\", \"S\"], [\"A\", \"D\", \"E\", \"E\"]]\n",
    "word = \"ABCCED\"\n",
    "expected = True"
   ]
  },
  {
   "cell_type": "code",
   "execution_count": null,
   "id": "762a288c",
   "metadata": {},
   "outputs": [],
   "source": [
    "result = run_exist(Solution, board, word)\n",
    "result"
   ]
  },
  {
   "cell_type": "code",
   "execution_count": null,
   "id": "acc32e51",
   "metadata": {},
   "outputs": [],
   "source": [
    "assert_exist(result, expected)"
   ]
  }
 ],
 "metadata": {
  "kernelspec": {
   "display_name": "leetcode-py-py3.13",
   "language": "python",
   "name": "python3"
  }
 },
 "nbformat": 4,
 "nbformat_minor": 5
}
