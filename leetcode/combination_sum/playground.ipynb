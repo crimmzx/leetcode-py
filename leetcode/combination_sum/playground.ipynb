{
 "cells": [
  {
   "cell_type": "code",
   "execution_count": null,
   "id": "eeaae760",
   "metadata": {},
   "outputs": [],
   "source": [
    "from helpers import assert_combination_sum, run_combination_sum\n",
    "from solution import Solution"
   ]
  },
  {
   "cell_type": "code",
   "execution_count": null,
   "id": "4409ddc7",
   "metadata": {},
   "outputs": [],
   "source": [
    "# Example test case\n",
    "candidates = [2, 3, 6, 7]\n",
    "target = 7\n",
    "expected = [[2, 2, 3], [7]]"
   ]
  },
  {
   "cell_type": "code",
   "execution_count": null,
   "id": "ade42ac4",
   "metadata": {},
   "outputs": [],
   "source": [
    "result = run_combination_sum(Solution, candidates, target)\n",
    "result"
   ]
  },
  {
   "cell_type": "code",
   "execution_count": null,
   "id": "0ba37f67",
   "metadata": {},
   "outputs": [],
   "source": [
    "assert_combination_sum(result, expected)"
   ]
  }
 ],
 "metadata": {
  "jupytext": {
   "formats": "ipynb,py:percent"
  },
  "kernelspec": {
   "display_name": "leetcode-py-py3.13",
   "language": "python",
   "name": "python3"
  }
 },
 "nbformat": 4,
 "nbformat_minor": 5
}
