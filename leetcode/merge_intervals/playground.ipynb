{
 "cells": [
  {
   "cell_type": "code",
   "execution_count": null,
   "id": "c2e63c5c",
   "metadata": {},
   "outputs": [],
   "source": [
    "from helpers import assert_merge, run_merge\n",
    "from solution import Solution"
   ]
  },
  {
   "cell_type": "code",
   "execution_count": null,
   "id": "906f5114",
   "metadata": {},
   "outputs": [],
   "source": [
    "# Example test case\n",
    "intervals = [[1, 3], [2, 6], [8, 10], [15, 18]]\n",
    "expected = [[1, 6], [8, 10], [15, 18]]"
   ]
  },
  {
   "cell_type": "code",
   "execution_count": null,
   "id": "3418e5f7",
   "metadata": {},
   "outputs": [],
   "source": [
    "result = run_merge(Solution, intervals)\n",
    "result"
   ]
  },
  {
   "cell_type": "code",
   "execution_count": null,
   "id": "e5ba835c",
   "metadata": {},
   "outputs": [],
   "source": [
    "assert_merge(result, expected)"
   ]
  }
 ],
 "metadata": {
  "jupytext": {
   "formats": "ipynb,py:percent"
  },
  "kernelspec": {
   "display_name": "leetcode-py-py3.13",
   "language": "python",
   "name": "python3"
  }
 },
 "nbformat": 4,
 "nbformat_minor": 5
}
