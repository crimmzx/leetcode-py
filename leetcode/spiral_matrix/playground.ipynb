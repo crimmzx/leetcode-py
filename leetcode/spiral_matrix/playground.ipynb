{
 "cells": [
  {
   "cell_type": "code",
   "execution_count": null,
   "id": "c1af4e8d",
   "metadata": {},
   "outputs": [],
   "source": [
    "from helpers import assert_spiral_order, run_spiral_order\n",
    "from solution import Solution"
   ]
  },
  {
   "cell_type": "code",
   "execution_count": null,
   "id": "01a460c7",
   "metadata": {},
   "outputs": [],
   "source": [
    "# Example test case\n",
    "matrix = [[1, 2, 3], [4, 5, 6], [7, 8, 9]]\n",
    "expected = [1, 2, 3, 6, 9, 8, 7, 4, 5]"
   ]
  },
  {
   "cell_type": "code",
   "execution_count": null,
   "id": "d957b7ce",
   "metadata": {},
   "outputs": [],
   "source": [
    "result = run_spiral_order(Solution, matrix)\n",
    "result"
   ]
  },
  {
   "cell_type": "code",
   "execution_count": null,
   "id": "994e5a65",
   "metadata": {},
   "outputs": [],
   "source": [
    "assert_spiral_order(result, expected)"
   ]
  }
 ],
 "metadata": {
  "jupytext": {
   "formats": "ipynb,py:percent"
  },
  "kernelspec": {
   "display_name": "leetcode-py-py3.13",
   "language": "python",
   "name": "python3"
  }
 },
 "nbformat": 4,
 "nbformat_minor": 5
}
