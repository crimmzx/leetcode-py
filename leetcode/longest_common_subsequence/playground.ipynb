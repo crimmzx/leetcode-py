{
 "cells": [
  {
   "cell_type": "code",
   "execution_count": null,
   "id": "c2820bbf",
   "metadata": {},
   "outputs": [],
   "source": [
    "from helpers import assert_longest_common_subsequence, run_longest_common_subsequence\n",
    "from solution import Solution"
   ]
  },
  {
   "cell_type": "code",
   "execution_count": null,
   "id": "36d763c4",
   "metadata": {},
   "outputs": [],
   "source": [
    "# Example test case\n",
    "text1 = \"abcde\"\n",
    "text2 = \"ace\"\n",
    "expected = 3"
   ]
  },
  {
   "cell_type": "code",
   "execution_count": null,
   "id": "9dfc1fb6",
   "metadata": {},
   "outputs": [],
   "source": [
    "result = run_longest_common_subsequence(Solution, text1, text2)\n",
    "result"
   ]
  },
  {
   "cell_type": "code",
   "execution_count": null,
   "id": "fb1432e4",
   "metadata": {},
   "outputs": [],
   "source": [
    "assert_longest_common_subsequence(result, expected)"
   ]
  }
 ],
 "metadata": {
  "kernelspec": {
   "display_name": "leetcode-py-py3.13",
   "language": "python",
   "name": "python3"
  }
 },
 "nbformat": 4,
 "nbformat_minor": 5
}
