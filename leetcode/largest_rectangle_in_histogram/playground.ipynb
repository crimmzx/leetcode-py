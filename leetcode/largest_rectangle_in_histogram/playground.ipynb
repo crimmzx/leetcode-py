{
 "cells": [
  {
   "cell_type": "code",
   "execution_count": null,
   "id": "83d7d4a3",
   "metadata": {},
   "outputs": [],
   "source": [
    "from helpers import assert_largest_rectangle_area, run_largest_rectangle_area\n",
    "from solution import Solution"
   ]
  },
  {
   "cell_type": "code",
   "execution_count": null,
   "id": "b15c6c23",
   "metadata": {},
   "outputs": [],
   "source": [
    "# Example test case\n",
    "heights = [2, 1, 5, 6, 2, 3]\n",
    "expected = 10"
   ]
  },
  {
   "cell_type": "code",
   "execution_count": null,
   "id": "c09a8558",
   "metadata": {},
   "outputs": [],
   "source": [
    "result = run_largest_rectangle_area(Solution, heights)\n",
    "result"
   ]
  },
  {
   "cell_type": "code",
   "execution_count": null,
   "id": "fb64ed17",
   "metadata": {},
   "outputs": [],
   "source": [
    "assert_largest_rectangle_area(result, expected)"
   ]
  }
 ],
 "metadata": {
  "jupytext": {
   "formats": "ipynb,py:percent"
  },
  "kernelspec": {
   "display_name": "leetcode-py-py3.13",
   "language": "python",
   "name": "python3"
  }
 },
 "nbformat": 4,
 "nbformat_minor": 5
}
