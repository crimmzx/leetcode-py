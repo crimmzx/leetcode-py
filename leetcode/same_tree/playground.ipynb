{
 "cells": [
  {
   "cell_type": "code",
   "execution_count": null,
   "id": "acded59d",
   "metadata": {},
   "outputs": [],
   "source": [
    "from helpers import assert_is_same_tree, run_is_same_tree\n",
    "from solution import Solution"
   ]
  },
  {
   "cell_type": "code",
   "execution_count": null,
   "id": "28d0cabd",
   "metadata": {},
   "outputs": [],
   "source": [
    "# Example test case\n",
    "p_list: list[int | None] = [1, 2, 3]\n",
    "q_list: list[int | None] = [1, 2, 3]\n",
    "expected = True"
   ]
  },
  {
   "cell_type": "code",
   "execution_count": null,
   "id": "69271839",
   "metadata": {},
   "outputs": [],
   "source": [
    "result = run_is_same_tree(Solution, p_list, q_list)\n",
    "result"
   ]
  },
  {
   "cell_type": "code",
   "execution_count": null,
   "id": "4ed752d1",
   "metadata": {},
   "outputs": [],
   "source": [
    "assert_is_same_tree(result, expected)"
   ]
  }
 ],
 "metadata": {
  "kernelspec": {
   "display_name": "leetcode-py-py3.13",
   "language": "python",
   "name": "python3"
  }
 },
 "nbformat": 4,
 "nbformat_minor": 5
}
