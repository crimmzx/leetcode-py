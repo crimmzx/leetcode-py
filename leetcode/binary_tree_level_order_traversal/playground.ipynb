{
 "cells": [
  {
   "cell_type": "code",
   "execution_count": null,
   "id": "aef4b60e",
   "metadata": {},
   "outputs": [],
   "source": [
    "from helpers import assert_level_order, run_level_order\n",
    "from solution import Solution"
   ]
  },
  {
   "cell_type": "code",
   "execution_count": null,
   "id": "f49ed4dd",
   "metadata": {},
   "outputs": [],
   "source": [
    "# Example test case\n",
    "root_list: list[int | None] = [3, 9, 20, None, None, 15, 7]\n",
    "expected = [[3], [9, 20], [15, 7]]"
   ]
  },
  {
   "cell_type": "code",
   "execution_count": null,
   "id": "9f75fbf7",
   "metadata": {},
   "outputs": [],
   "source": [
    "result = run_level_order(Solution, root_list)\n",
    "result"
   ]
  },
  {
   "cell_type": "code",
   "execution_count": null,
   "id": "b837dfa2",
   "metadata": {},
   "outputs": [],
   "source": [
    "assert_level_order(result, expected)"
   ]
  }
 ],
 "metadata": {
  "jupytext": {
   "formats": "ipynb,py:percent"
  },
  "kernelspec": {
   "display_name": "leetcode-py-py3.13",
   "language": "python",
   "name": "python3"
  }
 },
 "nbformat": 4,
 "nbformat_minor": 5
}
