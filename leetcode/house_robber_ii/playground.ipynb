{
 "cells": [
  {
   "cell_type": "code",
   "execution_count": null,
   "id": "bcdd5c17",
   "metadata": {},
   "outputs": [],
   "source": [
    "from helpers import assert_rob, run_rob\n",
    "from solution import Solution"
   ]
  },
  {
   "cell_type": "code",
   "execution_count": null,
   "id": "52eb2c42",
   "metadata": {},
   "outputs": [],
   "source": [
    "# Example test case\n",
    "nums = [2, 3, 2]\n",
    "expected = 3"
   ]
  },
  {
   "cell_type": "code",
   "execution_count": null,
   "id": "b899cdba",
   "metadata": {},
   "outputs": [],
   "source": [
    "result = run_rob(Solution, nums)\n",
    "result"
   ]
  },
  {
   "cell_type": "code",
   "execution_count": null,
   "id": "cdd6c4db",
   "metadata": {},
   "outputs": [],
   "source": [
    "assert_rob(result, expected)"
   ]
  }
 ],
 "metadata": {
  "kernelspec": {
   "display_name": "leetcode-py-py3.13",
   "language": "python",
   "name": "python3"
  }
 },
 "nbformat": 4,
 "nbformat_minor": 5
}
