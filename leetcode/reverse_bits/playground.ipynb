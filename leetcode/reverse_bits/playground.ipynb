{
 "cells": [
  {
   "cell_type": "code",
   "execution_count": null,
   "id": "6bfcf37a",
   "metadata": {},
   "outputs": [],
   "source": [
    "from helpers import assert_reverse_bits, run_reverse_bits\n",
    "from solution import Solution"
   ]
  },
  {
   "cell_type": "code",
   "execution_count": null,
   "id": "770471fb",
   "metadata": {},
   "outputs": [],
   "source": [
    "# Example test case\n",
    "n: int = 43261596\n",
    "expected: int = 964176192"
   ]
  },
  {
   "cell_type": "code",
   "execution_count": null,
   "id": "6137c273",
   "metadata": {},
   "outputs": [],
   "source": [
    "result = run_reverse_bits(Solution, n)\n",
    "result"
   ]
  },
  {
   "cell_type": "code",
   "execution_count": null,
   "id": "6e5c1923",
   "metadata": {},
   "outputs": [],
   "source": [
    "assert_reverse_bits(result, expected)"
   ]
  }
 ],
 "metadata": {
  "kernelspec": {
   "display_name": "leetcode-py-py3.13",
   "language": "python",
   "name": "python3"
  }
 },
 "nbformat": 4,
 "nbformat_minor": 5
}
