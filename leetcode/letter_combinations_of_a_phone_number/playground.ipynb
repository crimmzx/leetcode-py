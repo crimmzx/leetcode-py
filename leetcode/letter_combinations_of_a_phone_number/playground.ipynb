{
 "cells": [
  {
   "cell_type": "code",
   "execution_count": null,
   "id": "2f8936d3",
   "metadata": {},
   "outputs": [],
   "source": [
    "from helpers import assert_letter_combinations, run_letter_combinations\n",
    "from solution import Solution"
   ]
  },
  {
   "cell_type": "code",
   "execution_count": null,
   "id": "1d546901",
   "metadata": {},
   "outputs": [],
   "source": [
    "# Example test case\n",
    "digits = \"23\"\n",
    "expected = [\"ad\", \"ae\", \"af\", \"bd\", \"be\", \"bf\", \"cd\", \"ce\", \"cf\"]"
   ]
  },
  {
   "cell_type": "code",
   "execution_count": null,
   "id": "3a0a4b36",
   "metadata": {},
   "outputs": [],
   "source": [
    "result = run_letter_combinations(Solution, digits)\n",
    "result"
   ]
  },
  {
   "cell_type": "code",
   "execution_count": null,
   "id": "f2aefc87",
   "metadata": {},
   "outputs": [],
   "source": [
    "assert_letter_combinations(result, expected)"
   ]
  }
 ],
 "metadata": {
  "kernelspec": {
   "display_name": "leetcode-py-py3.13",
   "language": "python",
   "name": "python3"
  }
 },
 "nbformat": 4,
 "nbformat_minor": 5
}
