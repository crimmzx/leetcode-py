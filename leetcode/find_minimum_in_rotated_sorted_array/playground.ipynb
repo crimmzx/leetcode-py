{
 "cells": [
  {
   "cell_type": "code",
   "execution_count": null,
   "id": "676d2936",
   "metadata": {},
   "outputs": [],
   "source": [
    "from helpers import assert_find_min, run_find_min\n",
    "from solution import Solution"
   ]
  },
  {
   "cell_type": "code",
   "execution_count": null,
   "id": "e1a22001",
   "metadata": {},
   "outputs": [],
   "source": [
    "# Example test case\n",
    "nums: list[int] = [3, 4, 5, 1, 2]\n",
    "expected: int = 1"
   ]
  },
  {
   "cell_type": "code",
   "execution_count": null,
   "id": "e33347c6",
   "metadata": {},
   "outputs": [],
   "source": [
    "result = run_find_min(Solution, nums)\n",
    "result"
   ]
  },
  {
   "cell_type": "code",
   "execution_count": null,
   "id": "b956f92f",
   "metadata": {},
   "outputs": [],
   "source": [
    "assert_find_min(result, expected)"
   ]
  }
 ],
 "metadata": {
  "kernelspec": {
   "display_name": "leetcode-py-py3.13",
   "language": "python",
   "name": "python3"
  }
 },
 "nbformat": 4,
 "nbformat_minor": 5
}
