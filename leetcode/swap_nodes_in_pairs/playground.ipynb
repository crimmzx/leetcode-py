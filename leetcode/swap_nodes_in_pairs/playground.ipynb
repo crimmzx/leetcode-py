{
 "cells": [
  {
   "cell_type": "code",
   "execution_count": null,
   "id": "c27e1829",
   "metadata": {},
   "outputs": [],
   "source": [
    "from helpers import assert_swap_pairs, run_swap_pairs\n",
    "from solution import Solution"
   ]
  },
  {
   "cell_type": "code",
   "execution_count": null,
   "id": "30c0a49e",
   "metadata": {},
   "outputs": [],
   "source": [
    "# Example test case\n",
    "head_list = [1, 2, 3, 4]\n",
    "expected = [2, 1, 4, 3]"
   ]
  },
  {
   "cell_type": "code",
   "execution_count": null,
   "id": "3706da4f",
   "metadata": {},
   "outputs": [],
   "source": [
    "result = run_swap_pairs(Solution, head_list)\n",
    "result"
   ]
  },
  {
   "cell_type": "code",
   "execution_count": null,
   "id": "9a0d0f98",
   "metadata": {},
   "outputs": [],
   "source": [
    "assert_swap_pairs(result, expected)"
   ]
  }
 ],
 "metadata": {
  "kernelspec": {
   "display_name": "leetcode-py-py3.13",
   "language": "python",
   "name": "python3"
  }
 },
 "nbformat": 4,
 "nbformat_minor": 5
}
