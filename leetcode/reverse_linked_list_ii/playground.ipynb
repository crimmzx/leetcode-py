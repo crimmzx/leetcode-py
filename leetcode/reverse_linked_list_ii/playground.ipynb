{
 "cells": [
  {
   "cell_type": "code",
   "execution_count": null,
   "id": "034b6ead",
   "metadata": {},
   "outputs": [],
   "source": [
    "from helpers import assert_reverse_between, run_reverse_between\n",
    "from solution import Solution"
   ]
  },
  {
   "cell_type": "code",
   "execution_count": null,
   "id": "fe9d3a0a",
   "metadata": {},
   "outputs": [],
   "source": [
    "# Example test case\n",
    "head_list = [1, 2, 3, 4, 5]\n",
    "left, right = 2, 4\n",
    "expected_list = [1, 4, 3, 2, 5]"
   ]
  },
  {
   "cell_type": "code",
   "execution_count": null,
   "id": "a2ecaf95",
   "metadata": {},
   "outputs": [],
   "source": [
    "result = run_reverse_between(Solution, head_list, left, right)\n",
    "result"
   ]
  },
  {
   "cell_type": "code",
   "execution_count": null,
   "id": "ee0ae3c7",
   "metadata": {},
   "outputs": [],
   "source": [
    "assert_reverse_between(result, expected_list)"
   ]
  }
 ],
 "metadata": {
  "jupytext": {
   "formats": "ipynb,py:percent"
  },
  "kernelspec": {
   "display_name": "leetcode-py-py3.13",
   "language": "python",
   "name": "python3"
  }
 },
 "nbformat": 4,
 "nbformat_minor": 5
}
