{
 "cells": [
  {
   "cell_type": "code",
   "execution_count": null,
   "id": "c2b50a23",
   "metadata": {},
   "outputs": [],
   "source": [
    "from helpers import assert_group_anagrams, run_group_anagrams\n",
    "from solution import Solution"
   ]
  },
  {
   "cell_type": "code",
   "execution_count": null,
   "id": "ec5283b8",
   "metadata": {},
   "outputs": [],
   "source": [
    "# Example test case\n",
    "strs = [\"eat\", \"tea\", \"tan\", \"ate\", \"nat\", \"bat\"]\n",
    "expected = [[\"bat\"], [\"nat\", \"tan\"], [\"ate\", \"eat\", \"tea\"]]"
   ]
  },
  {
   "cell_type": "code",
   "execution_count": null,
   "id": "93ee9681",
   "metadata": {},
   "outputs": [],
   "source": [
    "result = run_group_anagrams(Solution, strs)\n",
    "result"
   ]
  },
  {
   "cell_type": "code",
   "execution_count": null,
   "id": "c507972b",
   "metadata": {},
   "outputs": [],
   "source": [
    "assert_group_anagrams(result, expected)"
   ]
  }
 ],
 "metadata": {
  "kernelspec": {
   "display_name": "leetcode-py-py3.13",
   "language": "python",
   "name": "python3"
  }
 },
 "nbformat": 4,
 "nbformat_minor": 5
}
