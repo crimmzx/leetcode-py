{
 "cells": [
  {
   "cell_type": "code",
   "execution_count": null,
   "id": "c2bb0964",
   "metadata": {},
   "outputs": [],
   "source": [
    "from helpers import assert_missing_number, run_missing_number\n",
    "from solution import Solution"
   ]
  },
  {
   "cell_type": "code",
   "execution_count": null,
   "id": "ae28aa12",
   "metadata": {},
   "outputs": [],
   "source": [
    "# Example test case\n",
    "nums = [3, 0, 1]\n",
    "expected = 2"
   ]
  },
  {
   "cell_type": "code",
   "execution_count": null,
   "id": "9ea85a3e",
   "metadata": {},
   "outputs": [],
   "source": [
    "result = run_missing_number(Solution, nums)\n",
    "result"
   ]
  },
  {
   "cell_type": "code",
   "execution_count": null,
   "id": "7dd037e9",
   "metadata": {},
   "outputs": [],
   "source": [
    "assert_missing_number(result, expected)"
   ]
  }
 ],
 "metadata": {
  "kernelspec": {
   "display_name": "leetcode-py-py3.13",
   "language": "python",
   "name": "python3"
  }
 },
 "nbformat": 4,
 "nbformat_minor": 5
}
