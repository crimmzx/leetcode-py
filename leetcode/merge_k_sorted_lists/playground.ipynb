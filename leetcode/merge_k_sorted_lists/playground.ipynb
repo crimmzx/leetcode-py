{
 "cells": [
  {
   "cell_type": "code",
   "execution_count": null,
   "id": "cf3f6564",
   "metadata": {},
   "outputs": [],
   "source": [
    "from helpers import assert_merge_k_lists, run_merge_k_lists\n",
    "from solution import Solution\n",
    "\n",
    "from leetcode_py import ListNode"
   ]
  },
  {
   "cell_type": "code",
   "execution_count": null,
   "id": "89841e8f",
   "metadata": {},
   "outputs": [],
   "source": [
    "# Example test case\n",
    "lists_data = [[1, 4, 5], [1, 3, 4], [2, 6]]\n",
    "expected_data = [1, 1, 2, 3, 4, 4, 5, 6]"
   ]
  },
  {
   "cell_type": "code",
   "execution_count": null,
   "id": "6bac8377",
   "metadata": {},
   "outputs": [],
   "source": [
    "result = run_merge_k_lists(Solution, lists_data)\n",
    "ListNode[int].to_list(result) if result else []"
   ]
  },
  {
   "cell_type": "code",
   "execution_count": null,
   "id": "055355a5",
   "metadata": {},
   "outputs": [],
   "source": [
    "assert_merge_k_lists(result, expected_data)"
   ]
  }
 ],
 "metadata": {
  "jupytext": {
   "formats": "ipynb,py:percent"
  },
  "kernelspec": {
   "display_name": "leetcode-py-py3.13",
   "language": "python",
   "name": "python3"
  }
 },
 "nbformat": 4,
 "nbformat_minor": 5
}
