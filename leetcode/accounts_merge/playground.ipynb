{
 "cells": [
  {
   "cell_type": "code",
   "execution_count": null,
   "id": "be09b1da",
   "metadata": {},
   "outputs": [],
   "source": [
    "from helpers import assert_accounts_merge, run_accounts_merge\n",
    "from solution import Solution"
   ]
  },
  {
   "cell_type": "code",
   "execution_count": null,
   "id": "0ce59fad",
   "metadata": {},
   "outputs": [],
   "source": [
    "# Example test case\n",
    "accounts = [\n",
    "    [\"John\", \"johnsmith@mail.com\", \"john_newyork@mail.com\"],\n",
    "    [\"John\", \"johnsmith@mail.com\", \"john00@mail.com\"],\n",
    "    [\"Mary\", \"mary@mail.com\"],\n",
    "    [\"John\", \"johnnybravo@mail.com\"],\n",
    "]\n",
    "expected = [\n",
    "    [\"John\", \"john00@mail.com\", \"john_newyork@mail.com\", \"johnsmith@mail.com\"],\n",
    "    [\"Mary\", \"mary@mail.com\"],\n",
    "    [\"John\", \"johnnybravo@mail.com\"],\n",
    "]"
   ]
  },
  {
   "cell_type": "code",
   "execution_count": null,
   "id": "9d78522a",
   "metadata": {},
   "outputs": [],
   "source": [
    "result = run_accounts_merge(Solution, accounts)\n",
    "result"
   ]
  },
  {
   "cell_type": "code",
   "execution_count": null,
   "id": "0767b21b",
   "metadata": {},
   "outputs": [],
   "source": [
    "assert_accounts_merge(result, expected)"
   ]
  }
 ],
 "metadata": {
  "kernelspec": {
   "display_name": "leetcode-py-py3.13",
   "language": "python",
   "name": "python3"
  }
 },
 "nbformat": 4,
 "nbformat_minor": 5
}
