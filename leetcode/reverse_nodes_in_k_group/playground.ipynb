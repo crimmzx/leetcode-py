{
 "cells": [
  {
   "cell_type": "code",
   "execution_count": null,
   "id": "8ac297d5",
   "metadata": {},
   "outputs": [],
   "source": [
    "from helpers import assert_reverse_k_group, run_reverse_k_group\n",
    "from solution import Solution"
   ]
  },
  {
   "cell_type": "code",
   "execution_count": null,
   "id": "2008085a",
   "metadata": {},
   "outputs": [],
   "source": [
    "# Example test case\n",
    "head_vals = [1, 2, 3, 4, 5]\n",
    "k = 2\n",
    "expected_vals = [2, 1, 4, 3, 5]"
   ]
  },
  {
   "cell_type": "code",
   "execution_count": null,
   "id": "98f1a664",
   "metadata": {},
   "outputs": [],
   "source": [
    "result = run_reverse_k_group(Solution, head_vals, k)\n",
    "result"
   ]
  },
  {
   "cell_type": "code",
   "execution_count": null,
   "id": "35233728",
   "metadata": {},
   "outputs": [],
   "source": [
    "assert_reverse_k_group(result, expected_vals)"
   ]
  }
 ],
 "metadata": {
  "kernelspec": {
   "display_name": "leetcode-py-py3.13",
   "language": "python",
   "name": "python3"
  }
 },
 "nbformat": 4,
 "nbformat_minor": 5
}
