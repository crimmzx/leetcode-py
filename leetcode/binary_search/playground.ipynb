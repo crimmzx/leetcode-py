{
 "cells": [
  {
   "cell_type": "code",
   "execution_count": null,
   "id": "5b117916",
   "metadata": {},
   "outputs": [],
   "source": [
    "from helpers import assert_search, run_search\n",
    "from solution import Solution"
   ]
  },
  {
   "cell_type": "code",
   "execution_count": null,
   "id": "ec59f05d",
   "metadata": {},
   "outputs": [],
   "source": [
    "# Example test case\n",
    "nums = [-1, 0, 3, 5, 9, 12]\n",
    "target = 9\n",
    "expected = 4"
   ]
  },
  {
   "cell_type": "code",
   "execution_count": null,
   "id": "d123b65f",
   "metadata": {},
   "outputs": [],
   "source": [
    "result = run_search(Solution, nums, target)\n",
    "result"
   ]
  },
  {
   "cell_type": "code",
   "execution_count": null,
   "id": "37818558",
   "metadata": {},
   "outputs": [],
   "source": [
    "assert_search(result, expected)"
   ]
  }
 ],
 "metadata": {
  "jupytext": {
   "formats": "ipynb,py:percent"
  },
  "kernelspec": {
   "display_name": "leetcode-py-py3.13",
   "language": "python",
   "name": "python3"
  }
 },
 "nbformat": 4,
 "nbformat_minor": 5
}
