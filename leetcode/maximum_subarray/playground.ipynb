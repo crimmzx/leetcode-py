{
 "cells": [
  {
   "cell_type": "code",
   "execution_count": null,
   "id": "4c4a5b75",
   "metadata": {},
   "outputs": [],
   "source": [
    "from helpers import assert_max_sub_array, run_max_sub_array\n",
    "from solution import Solution"
   ]
  },
  {
   "cell_type": "code",
   "execution_count": null,
   "id": "5d33beb7",
   "metadata": {},
   "outputs": [],
   "source": [
    "# Example test case\n",
    "nums = [-2, 1, -3, 4, -1, 2, 1, -5, 4]\n",
    "expected = 6"
   ]
  },
  {
   "cell_type": "code",
   "execution_count": null,
   "id": "ee1c70ed",
   "metadata": {},
   "outputs": [],
   "source": [
    "result = run_max_sub_array(Solution, nums)\n",
    "result"
   ]
  },
  {
   "cell_type": "code",
   "execution_count": null,
   "id": "6dc89d1a",
   "metadata": {},
   "outputs": [],
   "source": [
    "assert_max_sub_array(result, expected)"
   ]
  }
 ],
 "metadata": {
  "jupytext": {
   "formats": "ipynb,py:percent"
  },
  "kernelspec": {
   "display_name": "leetcode-py-py3.13",
   "language": "python",
   "name": "python3"
  }
 },
 "nbformat": 4,
 "nbformat_minor": 5
}
