{
 "cells": [
  {
   "cell_type": "code",
   "execution_count": null,
   "id": "7e096e0d",
   "metadata": {},
   "outputs": [],
   "source": [
    "from helpers import assert_oranges_rotting, run_oranges_rotting\n",
    "from solution import Solution"
   ]
  },
  {
   "cell_type": "code",
   "execution_count": null,
   "id": "37dbb605",
   "metadata": {},
   "outputs": [],
   "source": [
    "# Example test case\n",
    "grid = [[2, 1, 1], [1, 1, 0], [0, 1, 1]]\n",
    "expected = 4"
   ]
  },
  {
   "cell_type": "code",
   "execution_count": null,
   "id": "c04ea78b",
   "metadata": {},
   "outputs": [],
   "source": [
    "result = run_oranges_rotting(Solution, grid)\n",
    "result"
   ]
  },
  {
   "cell_type": "code",
   "execution_count": null,
   "id": "aa63f348",
   "metadata": {},
   "outputs": [],
   "source": [
    "assert_oranges_rotting(result, expected)"
   ]
  }
 ],
 "metadata": {
  "jupytext": {
   "formats": "ipynb,py:percent"
  },
  "kernelspec": {
   "display_name": "leetcode-py-py3.13",
   "language": "python",
   "name": "python3"
  }
 },
 "nbformat": 4,
 "nbformat_minor": 5
}
