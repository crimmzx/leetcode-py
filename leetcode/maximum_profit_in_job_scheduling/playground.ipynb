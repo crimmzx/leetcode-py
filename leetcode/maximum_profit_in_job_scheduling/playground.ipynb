{
 "cells": [
  {
   "cell_type": "code",
   "execution_count": null,
   "id": "72b5f596",
   "metadata": {},
   "outputs": [],
   "source": [
    "from helpers import assert_job_scheduling, run_job_scheduling\n",
    "from solution import Solution"
   ]
  },
  {
   "cell_type": "code",
   "execution_count": null,
   "id": "a413adae",
   "metadata": {},
   "outputs": [],
   "source": [
    "# Example test case\n",
    "start_time = [1, 2, 3, 3]\n",
    "end_time = [3, 4, 5, 6]\n",
    "profit = [50, 10, 40, 70]\n",
    "expected = 120"
   ]
  },
  {
   "cell_type": "code",
   "execution_count": null,
   "id": "6bfcc374",
   "metadata": {},
   "outputs": [],
   "source": [
    "result = run_job_scheduling(Solution, start_time, end_time, profit)\n",
    "result"
   ]
  },
  {
   "cell_type": "code",
   "execution_count": null,
   "id": "77768c9c",
   "metadata": {},
   "outputs": [],
   "source": [
    "assert_job_scheduling(result, expected)"
   ]
  }
 ],
 "metadata": {
  "jupytext": {
   "formats": "ipynb,py:percent"
  },
  "kernelspec": {
   "display_name": "leetcode-py-py3.13",
   "language": "python",
   "name": "python3"
  }
 },
 "nbformat": 4,
 "nbformat_minor": 5
}
