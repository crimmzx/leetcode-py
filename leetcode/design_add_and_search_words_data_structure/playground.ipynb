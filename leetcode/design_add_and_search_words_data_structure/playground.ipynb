{
 "cells": [
  {
   "cell_type": "code",
   "execution_count": null,
   "id": "aebbee5f",
   "metadata": {},
   "outputs": [],
   "source": [
    "from helpers import assert_word_dictionary, run_word_dictionary\n",
    "from solution import WordDictionary"
   ]
  },
  {
   "cell_type": "code",
   "execution_count": null,
   "id": "7886928a",
   "metadata": {},
   "outputs": [],
   "source": [
    "# Example test case\n",
    "operations = [\"WordDictionary\", \"addWord\", \"addWord\", \"addWord\", \"search\", \"search\", \"search\", \"search\"]\n",
    "inputs = [[], [\"bad\"], [\"dad\"], [\"mad\"], [\"pad\"], [\"bad\"], [\".ad\"], [\"b..\"]]\n",
    "expected = [None, None, None, None, False, True, True, True]"
   ]
  },
  {
   "cell_type": "code",
   "execution_count": null,
   "id": "37cec089",
   "metadata": {},
   "outputs": [],
   "source": [
    "result = run_word_dictionary(WordDictionary, operations, inputs)\n",
    "result"
   ]
  },
  {
   "cell_type": "code",
   "execution_count": null,
   "id": "eb377909",
   "metadata": {},
   "outputs": [],
   "source": [
    "assert_word_dictionary(result, expected)"
   ]
  }
 ],
 "metadata": {
  "kernelspec": {
   "display_name": "leetcode-py-py3.13",
   "language": "python",
   "name": "python3"
  }
 },
 "nbformat": 4,
 "nbformat_minor": 5
}
