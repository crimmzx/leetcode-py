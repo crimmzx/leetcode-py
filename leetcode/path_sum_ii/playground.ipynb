{
 "cells": [
  {
   "cell_type": "code",
   "execution_count": null,
   "id": "8e853690",
   "metadata": {},
   "outputs": [],
   "source": [
    "from helpers import assert_path_sum, run_path_sum\n",
    "from solution import Solution"
   ]
  },
  {
   "cell_type": "code",
   "execution_count": null,
   "id": "39088b85",
   "metadata": {},
   "outputs": [],
   "source": [
    "# Example test case\n",
    "root_list = [5, 4, 8, 11, None, 13, 4, 7, 2, None, None, 5, 1]\n",
    "target_sum = 22\n",
    "expected = [[5, 4, 11, 2], [5, 8, 4, 5]]"
   ]
  },
  {
   "cell_type": "code",
   "execution_count": null,
   "id": "b57147b4",
   "metadata": {},
   "outputs": [],
   "source": [
    "result = run_path_sum(Solution, root_list, target_sum)\n",
    "result"
   ]
  },
  {
   "cell_type": "code",
   "execution_count": null,
   "id": "ad8e9556",
   "metadata": {},
   "outputs": [],
   "source": [
    "assert_path_sum(result, expected)"
   ]
  }
 ],
 "metadata": {
  "kernelspec": {
   "display_name": "leetcode-py-py3.13",
   "language": "python",
   "name": "python3"
  }
 },
 "nbformat": 4,
 "nbformat_minor": 5
}
