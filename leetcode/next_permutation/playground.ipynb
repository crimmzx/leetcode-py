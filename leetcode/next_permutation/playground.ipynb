{
 "cells": [
  {
   "cell_type": "code",
   "execution_count": null,
   "id": "ef57a838",
   "metadata": {},
   "outputs": [],
   "source": [
    "from helpers import assert_next_permutation, run_next_permutation\n",
    "from solution import Solution"
   ]
  },
  {
   "cell_type": "code",
   "execution_count": null,
   "id": "b8d35add",
   "metadata": {},
   "outputs": [],
   "source": [
    "# Example test case\n",
    "nums = [1, 2, 3]\n",
    "expected = [1, 3, 2]"
   ]
  },
  {
   "cell_type": "code",
   "execution_count": null,
   "id": "3bc3aa23",
   "metadata": {},
   "outputs": [],
   "source": [
    "result = run_next_permutation(Solution, nums)\n",
    "result"
   ]
  },
  {
   "cell_type": "code",
   "execution_count": null,
   "id": "5e5d1fa3",
   "metadata": {},
   "outputs": [],
   "source": [
    "assert_next_permutation(result, expected)"
   ]
  }
 ],
 "metadata": {
  "kernelspec": {
   "display_name": "leetcode-py-py3.13",
   "language": "python",
   "name": "python3"
  }
 },
 "nbformat": 4,
 "nbformat_minor": 5
}
