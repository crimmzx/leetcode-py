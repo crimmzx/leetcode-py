{
 "cells": [
  {
   "cell_type": "code",
   "execution_count": null,
   "id": "bf7608aa",
   "metadata": {},
   "outputs": [],
   "source": [
    "from helpers import assert_rob, run_rob\n",
    "from solution import Solution"
   ]
  },
  {
   "cell_type": "code",
   "execution_count": null,
   "id": "7c116e6d",
   "metadata": {},
   "outputs": [],
   "source": [
    "# Example test case\n",
    "nums = [2, 7, 9, 3, 1]\n",
    "expected = 12"
   ]
  },
  {
   "cell_type": "code",
   "execution_count": null,
   "id": "53431418",
   "metadata": {},
   "outputs": [],
   "source": [
    "result = run_rob(Solution, nums)\n",
    "result"
   ]
  },
  {
   "cell_type": "code",
   "execution_count": null,
   "id": "96c8c4bd",
   "metadata": {},
   "outputs": [],
   "source": [
    "assert_rob(result, expected)"
   ]
  }
 ],
 "metadata": {
  "kernelspec": {
   "display_name": "leetcode-py-py3.13",
   "language": "python",
   "name": "python3"
  }
 },
 "nbformat": 4,
 "nbformat_minor": 5
}
