{
 "cells": [
  {
   "cell_type": "code",
   "execution_count": null,
   "id": "a2984eb3",
   "metadata": {},
   "outputs": [],
   "source": [
    "from helpers import assert_ladder_length, run_ladder_length\n",
    "from solution import Solution"
   ]
  },
  {
   "cell_type": "code",
   "execution_count": null,
   "id": "963504ec",
   "metadata": {},
   "outputs": [],
   "source": [
    "# Example test case\n",
    "begin_word = \"hit\"\n",
    "end_word = \"cog\"\n",
    "word_list = [\"hot\", \"dot\", \"dog\", \"lot\", \"log\", \"cog\"]\n",
    "expected = 5"
   ]
  },
  {
   "cell_type": "code",
   "execution_count": null,
   "id": "61971591",
   "metadata": {},
   "outputs": [],
   "source": [
    "result = run_ladder_length(Solution, begin_word, end_word, word_list)\n",
    "result"
   ]
  },
  {
   "cell_type": "code",
   "execution_count": null,
   "id": "8daa05da",
   "metadata": {},
   "outputs": [],
   "source": [
    "assert_ladder_length(result, expected)"
   ]
  }
 ],
 "metadata": {
  "jupytext": {
   "formats": "ipynb,py:percent"
  },
  "kernelspec": {
   "display_name": "leetcode-py-py3.13",
   "language": "python",
   "name": "python3"
  }
 },
 "nbformat": 4,
 "nbformat_minor": 5
}
