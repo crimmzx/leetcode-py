{
 "cells": [
  {
   "cell_type": "code",
   "execution_count": null,
   "id": "4b23746b",
   "metadata": {},
   "outputs": [],
   "source": [
    "from helpers import assert_find_diagonal_order, run_find_diagonal_order\n",
    "from solution import Solution"
   ]
  },
  {
   "cell_type": "code",
   "execution_count": null,
   "id": "e68584f6",
   "metadata": {},
   "outputs": [],
   "source": [
    "# Example test case\n",
    "mat = [[1, 2, 3], [4, 5, 6], [7, 8, 9]]\n",
    "expected = [1, 2, 4, 7, 5, 3, 6, 8, 9]"
   ]
  },
  {
   "cell_type": "code",
   "execution_count": null,
   "id": "b323b769",
   "metadata": {},
   "outputs": [],
   "source": [
    "result = run_find_diagonal_order(Solution, mat)\n",
    "result"
   ]
  },
  {
   "cell_type": "code",
   "execution_count": null,
   "id": "554c34ea",
   "metadata": {},
   "outputs": [],
   "source": [
    "assert_find_diagonal_order(result, expected)"
   ]
  }
 ],
 "metadata": {
  "kernelspec": {
   "display_name": "leetcode-py-py3.13",
   "language": "python",
   "name": "python3"
  }
 },
 "nbformat": 4,
 "nbformat_minor": 5
}
