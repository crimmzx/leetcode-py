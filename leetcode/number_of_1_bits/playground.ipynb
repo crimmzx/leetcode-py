{
 "cells": [
  {
   "cell_type": "code",
   "execution_count": null,
   "id": "9ee096a9",
   "metadata": {},
   "outputs": [],
   "source": [
    "from helpers import assert_hamming_weight, run_hamming_weight\n",
    "from solution import Solution"
   ]
  },
  {
   "cell_type": "code",
   "execution_count": null,
   "id": "fae30811",
   "metadata": {},
   "outputs": [],
   "source": [
    "# Example test case\n",
    "n = 11\n",
    "expected = 3"
   ]
  },
  {
   "cell_type": "code",
   "execution_count": null,
   "id": "7d202e26",
   "metadata": {},
   "outputs": [],
   "source": [
    "result = run_hamming_weight(Solution, n)\n",
    "result"
   ]
  },
  {
   "cell_type": "code",
   "execution_count": null,
   "id": "a1cad8f1",
   "metadata": {},
   "outputs": [],
   "source": [
    "assert_hamming_weight(result, expected)"
   ]
  }
 ],
 "metadata": {
  "kernelspec": {
   "display_name": "leetcode-py-py3.13",
   "language": "python",
   "name": "python3"
  }
 },
 "nbformat": 4,
 "nbformat_minor": 5
}
