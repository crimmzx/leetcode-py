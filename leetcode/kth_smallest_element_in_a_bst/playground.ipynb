{
 "cells": [
  {
   "cell_type": "code",
   "execution_count": null,
   "id": "d9317014",
   "metadata": {},
   "outputs": [],
   "source": [
    "from helpers import assert_kth_smallest, run_kth_smallest\n",
    "from solution import Solution"
   ]
  },
  {
   "cell_type": "code",
   "execution_count": null,
   "id": "e022df0e",
   "metadata": {},
   "outputs": [],
   "source": [
    "# Example test case\n",
    "root_list = [3, 1, 4, None, 2]\n",
    "k = 1\n",
    "expected = 1"
   ]
  },
  {
   "cell_type": "code",
   "execution_count": null,
   "id": "6451a554",
   "metadata": {},
   "outputs": [],
   "source": [
    "result = run_kth_smallest(Solution, root_list, k)\n",
    "result"
   ]
  },
  {
   "cell_type": "code",
   "execution_count": null,
   "id": "dda46b06",
   "metadata": {},
   "outputs": [],
   "source": [
    "assert_kth_smallest(result, expected)"
   ]
  }
 ],
 "metadata": {
  "jupytext": {
   "formats": "ipynb,py:percent"
  },
  "kernelspec": {
   "display_name": "leetcode-py-py3.13",
   "language": "python",
   "name": "python3"
  }
 },
 "nbformat": 4,
 "nbformat_minor": 5
}
