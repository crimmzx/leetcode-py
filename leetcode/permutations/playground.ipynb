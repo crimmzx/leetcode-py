{
 "cells": [
  {
   "cell_type": "code",
   "execution_count": null,
   "id": "3ba83e82",
   "metadata": {},
   "outputs": [],
   "source": [
    "from helpers import assert_permute, run_permute\n",
    "from solution import Solution"
   ]
  },
  {
   "cell_type": "code",
   "execution_count": null,
   "id": "d471728c",
   "metadata": {},
   "outputs": [],
   "source": [
    "# Example test case\n",
    "nums = [1, 2, 3]\n",
    "expected = [[1, 2, 3], [1, 3, 2], [2, 1, 3], [2, 3, 1], [3, 1, 2], [3, 2, 1]]"
   ]
  },
  {
   "cell_type": "code",
   "execution_count": null,
   "id": "7b4d4203",
   "metadata": {},
   "outputs": [],
   "source": [
    "result = run_permute(Solution, nums)\n",
    "result"
   ]
  },
  {
   "cell_type": "code",
   "execution_count": null,
   "id": "b8bf02db",
   "metadata": {},
   "outputs": [],
   "source": [
    "assert_permute(result, expected)"
   ]
  }
 ],
 "metadata": {
  "jupytext": {
   "formats": "ipynb,py:percent"
  },
  "kernelspec": {
   "display_name": "leetcode-py-py3.13",
   "language": "python",
   "name": "python3"
  }
 },
 "nbformat": 4,
 "nbformat_minor": 5
}
