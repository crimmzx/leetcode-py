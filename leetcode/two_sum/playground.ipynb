{
 "cells": [
  {
   "cell_type": "code",
   "execution_count": null,
   "id": "a708098a",
   "metadata": {},
   "outputs": [],
   "source": [
    "from helpers import assert_two_sum, run_two_sum\n",
    "from solution import Solution"
   ]
  },
  {
   "cell_type": "code",
   "execution_count": null,
   "id": "e08b7e51",
   "metadata": {},
   "outputs": [],
   "source": [
    "# Example test case\n",
    "nums = [2, 7, 11, 15]\n",
    "target = 9\n",
    "expected = [0, 1]"
   ]
  },
  {
   "cell_type": "code",
   "execution_count": null,
   "id": "703c7e5b",
   "metadata": {},
   "outputs": [],
   "source": [
    "result = run_two_sum(Solution, nums, target)\n",
    "result"
   ]
  },
  {
   "cell_type": "code",
   "execution_count": null,
   "id": "e5e269a7",
   "metadata": {},
   "outputs": [],
   "source": [
    "assert_two_sum(result, expected)"
   ]
  }
 ],
 "metadata": {
  "jupytext": {
   "formats": "ipynb,py:percent"
  },
  "kernelspec": {
   "display_name": "leetcode-py-py3.13",
   "language": "python",
   "name": "python3"
  }
 },
 "nbformat": 4,
 "nbformat_minor": 5
}
