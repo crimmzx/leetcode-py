{
 "cells": [
  {
   "cell_type": "code",
   "execution_count": null,
   "id": "15619dfd",
   "metadata": {},
   "outputs": [],
   "source": [
    "from helpers import assert_rotate, run_rotate\n",
    "from solution import Solution"
   ]
  },
  {
   "cell_type": "code",
   "execution_count": null,
   "id": "f907627f",
   "metadata": {},
   "outputs": [],
   "source": [
    "# Example test case\n",
    "matrix = [[1, 2, 3], [4, 5, 6], [7, 8, 9]]\n",
    "expected = [[7, 4, 1], [8, 5, 2], [9, 6, 3]]"
   ]
  },
  {
   "cell_type": "code",
   "execution_count": null,
   "id": "e45cf3d4",
   "metadata": {},
   "outputs": [],
   "source": [
    "result = run_rotate(Solution, matrix)\n",
    "result"
   ]
  },
  {
   "cell_type": "code",
   "execution_count": null,
   "id": "ce5d5adb",
   "metadata": {},
   "outputs": [],
   "source": [
    "assert_rotate(result, expected)"
   ]
  }
 ],
 "metadata": {
  "kernelspec": {
   "display_name": "leetcode-py-py3.13",
   "language": "python",
   "name": "python3"
  }
 },
 "nbformat": 4,
 "nbformat_minor": 5
}
