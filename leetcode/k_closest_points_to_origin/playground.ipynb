{
 "cells": [
  {
   "cell_type": "code",
   "execution_count": null,
   "id": "b409e442",
   "metadata": {},
   "outputs": [],
   "source": [
    "from helpers import assert_k_closest, run_k_closest\n",
    "from solution import Solution"
   ]
  },
  {
   "cell_type": "code",
   "execution_count": null,
   "id": "b76f402d",
   "metadata": {},
   "outputs": [],
   "source": [
    "# Example test case\n",
    "points = [[1, 3], [-2, 2]]\n",
    "k = 1\n",
    "expected = [[-2, 2]]"
   ]
  },
  {
   "cell_type": "code",
   "execution_count": null,
   "id": "fa8b3e3b",
   "metadata": {},
   "outputs": [],
   "source": [
    "result = run_k_closest(Solution, points, k)\n",
    "result"
   ]
  },
  {
   "cell_type": "code",
   "execution_count": null,
   "id": "93819cd8",
   "metadata": {},
   "outputs": [],
   "source": [
    "assert_k_closest(result, expected)"
   ]
  }
 ],
 "metadata": {
  "jupytext": {
   "formats": "ipynb,py:percent"
  },
  "kernelspec": {
   "display_name": "leetcode-py-py3.13",
   "language": "python",
   "name": "python3"
  }
 },
 "nbformat": 4,
 "nbformat_minor": 5
}
