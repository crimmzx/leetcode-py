{
 "cells": [
  {
   "cell_type": "code",
   "execution_count": null,
   "id": "a28b26d8",
   "metadata": {},
   "outputs": [],
   "source": [
    "from helpers import assert_top_k_frequent, run_top_k_frequent\n",
    "from solution import Solution"
   ]
  },
  {
   "cell_type": "code",
   "execution_count": null,
   "id": "4c38dc2b",
   "metadata": {},
   "outputs": [],
   "source": [
    "# Example test case\n",
    "words: list[str] = [\"i\", \"love\", \"leetcode\", \"i\", \"love\", \"coding\"]\n",
    "k = 2\n",
    "expected: list[str] = [\"i\", \"love\"]"
   ]
  },
  {
   "cell_type": "code",
   "execution_count": null,
   "id": "9678bb49",
   "metadata": {},
   "outputs": [],
   "source": [
    "result = run_top_k_frequent(Solution, words, k)\n",
    "result"
   ]
  },
  {
   "cell_type": "code",
   "execution_count": null,
   "id": "0358bd16",
   "metadata": {},
   "outputs": [],
   "source": [
    "assert_top_k_frequent(result, expected)"
   ]
  }
 ],
 "metadata": {
  "kernelspec": {
   "display_name": "leetcode-py-py3.13",
   "language": "python",
   "name": "python3"
  }
 },
 "nbformat": 4,
 "nbformat_minor": 5
}
