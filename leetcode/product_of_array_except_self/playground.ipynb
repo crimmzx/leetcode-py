{
 "cells": [
  {
   "cell_type": "code",
   "execution_count": null,
   "id": "58c1bd07",
   "metadata": {},
   "outputs": [],
   "source": [
    "from helpers import assert_product_except_self, run_product_except_self\n",
    "from solution import Solution"
   ]
  },
  {
   "cell_type": "code",
   "execution_count": null,
   "id": "39d52144",
   "metadata": {},
   "outputs": [],
   "source": [
    "# Example test case\n",
    "nums = [1, 2, 3, 4]\n",
    "expected = [24, 12, 8, 6]"
   ]
  },
  {
   "cell_type": "code",
   "execution_count": null,
   "id": "0ead5a9c",
   "metadata": {},
   "outputs": [],
   "source": [
    "result = run_product_except_self(Solution, nums)\n",
    "result"
   ]
  },
  {
   "cell_type": "code",
   "execution_count": null,
   "id": "5a3cbd0b",
   "metadata": {},
   "outputs": [],
   "source": [
    "assert_product_except_self(result, expected)"
   ]
  }
 ],
 "metadata": {
  "jupytext": {
   "formats": "ipynb,py:percent"
  },
  "kernelspec": {
   "display_name": "leetcode-py-py3.13",
   "language": "python",
   "name": "python3"
  }
 },
 "nbformat": 4,
 "nbformat_minor": 5
}
