{
 "cells": [
  {
   "cell_type": "code",
   "execution_count": null,
   "id": "fd5574b9",
   "metadata": {},
   "outputs": [],
   "source": [
    "from helpers import assert_find_median_sorted_arrays, run_find_median_sorted_arrays\n",
    "from solution import Solution"
   ]
  },
  {
   "cell_type": "code",
   "execution_count": null,
   "id": "178d098d",
   "metadata": {},
   "outputs": [],
   "source": [
    "# Example test case\n",
    "nums1 = [1, 3]\n",
    "nums2 = [2]\n",
    "expected = 2.0"
   ]
  },
  {
   "cell_type": "code",
   "execution_count": null,
   "id": "43c71c99",
   "metadata": {},
   "outputs": [],
   "source": [
    "result = run_find_median_sorted_arrays(Solution, nums1, nums2)\n",
    "result"
   ]
  },
  {
   "cell_type": "code",
   "execution_count": null,
   "id": "6353cb8d",
   "metadata": {},
   "outputs": [],
   "source": [
    "assert_find_median_sorted_arrays(result, expected)"
   ]
  }
 ],
 "metadata": {
  "kernelspec": {
   "display_name": "leetcode-py-py3.13",
   "language": "python",
   "name": "python3"
  }
 },
 "nbformat": 4,
 "nbformat_minor": 5
}
