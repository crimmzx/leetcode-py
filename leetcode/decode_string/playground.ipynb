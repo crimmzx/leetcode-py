{
 "cells": [
  {
   "cell_type": "code",
   "execution_count": null,
   "id": "99f992b8",
   "metadata": {},
   "outputs": [],
   "source": [
    "from helpers import assert_decode_string, run_decode_string\n",
    "from solution import Solution"
   ]
  },
  {
   "cell_type": "code",
   "execution_count": null,
   "id": "80ee8b96",
   "metadata": {},
   "outputs": [],
   "source": [
    "# Example test case\n",
    "s = \"3[a]2[bc]\"\n",
    "expected = \"aaabcbc\""
   ]
  },
  {
   "cell_type": "code",
   "execution_count": null,
   "id": "9c175c84",
   "metadata": {},
   "outputs": [],
   "source": [
    "result = run_decode_string(Solution, s)\n",
    "result"
   ]
  },
  {
   "cell_type": "code",
   "execution_count": null,
   "id": "4337c061",
   "metadata": {},
   "outputs": [],
   "source": [
    "assert_decode_string(result, expected)"
   ]
  }
 ],
 "metadata": {
  "kernelspec": {
   "display_name": "leetcode-py-py3.13",
   "language": "python",
   "name": "python3"
  }
 },
 "nbformat": 4,
 "nbformat_minor": 5
}
