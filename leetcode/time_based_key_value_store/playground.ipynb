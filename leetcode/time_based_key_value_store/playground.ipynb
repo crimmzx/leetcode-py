{
 "cells": [
  {
   "cell_type": "code",
   "execution_count": null,
   "id": "94ccc875",
   "metadata": {},
   "outputs": [],
   "source": [
    "from helpers import assert_time_map_operations, run_time_map_operations\n",
    "from solution import TimeMap"
   ]
  },
  {
   "cell_type": "code",
   "execution_count": null,
   "id": "ec0e79c9",
   "metadata": {},
   "outputs": [],
   "source": [
    "# Example test case\n",
    "operations = [\"TimeMap\", \"set\", \"get\", \"get\", \"set\", \"get\", \"get\"]\n",
    "inputs = [[], [\"foo\", \"bar\", 1], [\"foo\", 1], [\"foo\", 3], [\"foo\", \"bar2\", 4], [\"foo\", 4], [\"foo\", 5]]\n",
    "expected = [None, None, \"bar\", \"bar\", None, \"bar2\", \"bar2\"]"
   ]
  },
  {
   "cell_type": "code",
   "execution_count": null,
   "id": "92015f25",
   "metadata": {},
   "outputs": [],
   "source": [
    "result = run_time_map_operations(TimeMap, operations, inputs)\n",
    "result"
   ]
  },
  {
   "cell_type": "code",
   "execution_count": null,
   "id": "d3e2e921",
   "metadata": {},
   "outputs": [],
   "source": [
    "assert_time_map_operations(result, expected)"
   ]
  }
 ],
 "metadata": {
  "jupytext": {
   "formats": "ipynb,py:percent"
  },
  "kernelspec": {
   "display_name": "leetcode-py-py3.13",
   "language": "python",
   "name": "python3"
  }
 },
 "nbformat": 4,
 "nbformat_minor": 5
}
