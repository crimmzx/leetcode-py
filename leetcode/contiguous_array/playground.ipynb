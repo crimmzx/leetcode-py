{
 "cells": [
  {
   "cell_type": "code",
   "execution_count": null,
   "id": "dca604bc",
   "metadata": {},
   "outputs": [],
   "source": [
    "from helpers import assert_find_max_length, run_find_max_length\n",
    "from solution import Solution"
   ]
  },
  {
   "cell_type": "code",
   "execution_count": null,
   "id": "7fdabccb",
   "metadata": {},
   "outputs": [],
   "source": [
    "# Example test case\n",
    "nums = [0, 1]\n",
    "expected = 2"
   ]
  },
  {
   "cell_type": "code",
   "execution_count": null,
   "id": "ed8757e0",
   "metadata": {},
   "outputs": [],
   "source": [
    "result = run_find_max_length(Solution, nums)\n",
    "result"
   ]
  },
  {
   "cell_type": "code",
   "execution_count": null,
   "id": "726c8a50",
   "metadata": {},
   "outputs": [],
   "source": [
    "assert_find_max_length(result, expected)"
   ]
  }
 ],
 "metadata": {
  "kernelspec": {
   "display_name": "leetcode-py-py3.13",
   "language": "python",
   "name": "python3"
  }
 },
 "nbformat": 4,
 "nbformat_minor": 5
}
