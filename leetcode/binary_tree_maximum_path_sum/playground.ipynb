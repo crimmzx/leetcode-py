{
 "cells": [
  {
   "cell_type": "code",
   "execution_count": null,
   "id": "9129cf4e",
   "metadata": {},
   "outputs": [],
   "source": [
    "from helpers import assert_max_path_sum, run_max_path_sum\n",
    "from solution import Solution"
   ]
  },
  {
   "cell_type": "code",
   "execution_count": null,
   "id": "7ff08b57",
   "metadata": {},
   "outputs": [],
   "source": [
    "# Example test case\n",
    "root_list: list[int | None] = [1, 2, 3]\n",
    "expected: int = 6"
   ]
  },
  {
   "cell_type": "code",
   "execution_count": null,
   "id": "a8c218dd",
   "metadata": {},
   "outputs": [],
   "source": [
    "result = run_max_path_sum(Solution, root_list)\n",
    "result"
   ]
  },
  {
   "cell_type": "code",
   "execution_count": null,
   "id": "3aca010f",
   "metadata": {},
   "outputs": [],
   "source": [
    "assert_max_path_sum(result, expected)"
   ]
  }
 ],
 "metadata": {
  "kernelspec": {
   "display_name": "leetcode-py-py3.13",
   "language": "python",
   "name": "python3"
  }
 },
 "nbformat": 4,
 "nbformat_minor": 5
}
