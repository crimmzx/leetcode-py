{
 "cells": [
  {
   "cell_type": "code",
   "execution_count": null,
   "id": "97c5eb62",
   "metadata": {},
   "outputs": [],
   "source": [
    "from helpers import assert_set_zeroes, run_set_zeroes\n",
    "from solution import Solution"
   ]
  },
  {
   "cell_type": "code",
   "execution_count": null,
   "id": "2beda22a",
   "metadata": {},
   "outputs": [],
   "source": [
    "# Example test case\n",
    "matrix = [[1, 1, 1], [1, 0, 1], [1, 1, 1]]\n",
    "expected = [[1, 0, 1], [0, 0, 0], [1, 0, 1]]"
   ]
  },
  {
   "cell_type": "code",
   "execution_count": null,
   "id": "2c6eb1b8",
   "metadata": {},
   "outputs": [],
   "source": [
    "result = run_set_zeroes(Solution, matrix)\n",
    "result"
   ]
  },
  {
   "cell_type": "code",
   "execution_count": null,
   "id": "dec26219",
   "metadata": {},
   "outputs": [],
   "source": [
    "assert_set_zeroes(result, expected)"
   ]
  }
 ],
 "metadata": {
  "kernelspec": {
   "display_name": "leetcode-py-py3.13",
   "language": "python",
   "name": "python3"
  }
 },
 "nbformat": 4,
 "nbformat_minor": 5
}
