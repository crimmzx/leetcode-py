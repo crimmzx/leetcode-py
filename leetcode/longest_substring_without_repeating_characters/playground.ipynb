{
 "cells": [
  {
   "cell_type": "code",
   "execution_count": null,
   "id": "bedfe811",
   "metadata": {},
   "outputs": [],
   "source": [
    "from helpers import assert_length_of_longest_substring, run_length_of_longest_substring\n",
    "from solution import Solution"
   ]
  },
  {
   "cell_type": "code",
   "execution_count": null,
   "id": "e981e82c",
   "metadata": {},
   "outputs": [],
   "source": [
    "# Example test case\n",
    "s = \"abcabcbb\"\n",
    "expected = 3"
   ]
  },
  {
   "cell_type": "code",
   "execution_count": null,
   "id": "72aad514",
   "metadata": {},
   "outputs": [],
   "source": [
    "result = run_length_of_longest_substring(Solution, s)\n",
    "result"
   ]
  },
  {
   "cell_type": "code",
   "execution_count": null,
   "id": "346256e0",
   "metadata": {},
   "outputs": [],
   "source": [
    "assert_length_of_longest_substring(result, expected)"
   ]
  }
 ],
 "metadata": {
  "jupytext": {
   "formats": "ipynb,py:percent"
  },
  "kernelspec": {
   "display_name": "leetcode-py-py3.13",
   "language": "python",
   "name": "python3"
  }
 },
 "nbformat": 4,
 "nbformat_minor": 5
}
