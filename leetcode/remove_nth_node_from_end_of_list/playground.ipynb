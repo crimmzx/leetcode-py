{
 "cells": [
  {
   "cell_type": "code",
   "execution_count": null,
   "id": "da1959ed",
   "metadata": {},
   "outputs": [],
   "source": [
    "from helpers import assert_remove_nth_from_end, run_remove_nth_from_end\n",
    "from solution import Solution"
   ]
  },
  {
   "cell_type": "code",
   "execution_count": null,
   "id": "2a05769b",
   "metadata": {},
   "outputs": [],
   "source": [
    "# Example test case\n",
    "head_list: list[int] = [1, 2, 3, 4, 5]\n",
    "n = 2\n",
    "expected: list[int] = [1, 2, 3, 5]"
   ]
  },
  {
   "cell_type": "code",
   "execution_count": null,
   "id": "663dd8d0",
   "metadata": {},
   "outputs": [],
   "source": [
    "result = run_remove_nth_from_end(Solution, head_list, n)\n",
    "result"
   ]
  },
  {
   "cell_type": "code",
   "execution_count": null,
   "id": "240e0bd9",
   "metadata": {},
   "outputs": [],
   "source": [
    "assert_remove_nth_from_end(result, expected)"
   ]
  }
 ],
 "metadata": {
  "kernelspec": {
   "display_name": "leetcode-py-py3.13",
   "language": "python",
   "name": "python3"
  }
 },
 "nbformat": 4,
 "nbformat_minor": 5
}
