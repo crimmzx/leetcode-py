{
 "cells": [
  {
   "cell_type": "code",
   "execution_count": null,
   "id": "a8e2807c",
   "metadata": {},
   "outputs": [],
   "source": [
    "from helpers import assert_longest_palindrome, run_longest_palindrome\n",
    "from solution import Solution"
   ]
  },
  {
   "cell_type": "code",
   "execution_count": null,
   "id": "247dad58",
   "metadata": {},
   "outputs": [],
   "source": [
    "# Example test case\n",
    "s = \"babad\"\n",
    "expected = {\"bab\", \"aba\"}"
   ]
  },
  {
   "cell_type": "code",
   "execution_count": null,
   "id": "fd527c64",
   "metadata": {},
   "outputs": [],
   "source": [
    "result = run_longest_palindrome(Solution, s)\n",
    "result"
   ]
  },
  {
   "cell_type": "code",
   "execution_count": null,
   "id": "6e410a62",
   "metadata": {},
   "outputs": [],
   "source": [
    "assert_longest_palindrome(result, expected)"
   ]
  }
 ],
 "metadata": {
  "jupytext": {
   "formats": "ipynb,py:percent"
  },
  "kernelspec": {
   "display_name": "leetcode-py-py3.13",
   "language": "python",
   "name": "python3"
  }
 },
 "nbformat": 4,
 "nbformat_minor": 5
}
