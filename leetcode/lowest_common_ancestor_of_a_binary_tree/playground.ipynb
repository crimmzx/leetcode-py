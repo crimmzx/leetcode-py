{
 "cells": [
  {
   "cell_type": "code",
   "execution_count": null,
   "id": "a455f44b",
   "metadata": {},
   "outputs": [],
   "source": [
    "from helpers import assert_lowest_common_ancestor, run_lowest_common_ancestor\n",
    "from solution import Solution"
   ]
  },
  {
   "cell_type": "code",
   "execution_count": null,
   "id": "f4206617",
   "metadata": {},
   "outputs": [],
   "source": [
    "# Example test case\n",
    "root_list = [3, 5, 1, 6, 2, 0, 8, None, None, 7, 4]\n",
    "p_val = 5\n",
    "q_val = 1\n",
    "expected_val = 3"
   ]
  },
  {
   "cell_type": "code",
   "execution_count": null,
   "id": "7c4547eb",
   "metadata": {},
   "outputs": [],
   "source": [
    "result = run_lowest_common_ancestor(Solution, root_list, p_val, q_val)\n",
    "result.val"
   ]
  },
  {
   "cell_type": "code",
   "execution_count": null,
   "id": "424843cf",
   "metadata": {},
   "outputs": [],
   "source": [
    "assert_lowest_common_ancestor(result, expected_val)"
   ]
  }
 ],
 "metadata": {
  "jupytext": {
   "formats": "ipynb,py:percent"
  },
  "kernelspec": {
   "display_name": "leetcode-py-py3.13",
   "language": "python",
   "name": "python3"
  }
 },
 "nbformat": 4,
 "nbformat_minor": 5
}
