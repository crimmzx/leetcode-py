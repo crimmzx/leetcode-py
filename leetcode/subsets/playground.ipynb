{
 "cells": [
  {
   "cell_type": "code",
   "execution_count": null,
   "id": "b33fce2b",
   "metadata": {},
   "outputs": [],
   "source": [
    "from helpers import assert_subsets, run_subsets\n",
    "from solution import Solution"
   ]
  },
  {
   "cell_type": "code",
   "execution_count": null,
   "id": "c218513c",
   "metadata": {},
   "outputs": [],
   "source": [
    "# Example test case\n",
    "nums = [1, 2, 3]\n",
    "expected = [[], [1], [2], [1, 2], [3], [1, 3], [2, 3], [1, 2, 3]]"
   ]
  },
  {
   "cell_type": "code",
   "execution_count": null,
   "id": "3aadeab3",
   "metadata": {},
   "outputs": [],
   "source": [
    "result = run_subsets(Solution, nums)\n",
    "result"
   ]
  },
  {
   "cell_type": "code",
   "execution_count": null,
   "id": "be104383",
   "metadata": {},
   "outputs": [],
   "source": [
    "assert_subsets(result, expected)"
   ]
  }
 ],
 "metadata": {
  "kernelspec": {
   "display_name": "leetcode-py-py3.13",
   "language": "python",
   "name": "python3"
  }
 },
 "nbformat": 4,
 "nbformat_minor": 5
}
