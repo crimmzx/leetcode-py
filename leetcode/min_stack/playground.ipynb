{
 "cells": [
  {
   "cell_type": "code",
   "execution_count": null,
   "id": "4e3e1bab",
   "metadata": {},
   "outputs": [],
   "source": [
    "from helpers import assert_min_stack_operations, run_min_stack_operations\n",
    "from solution import MinStack"
   ]
  },
  {
   "cell_type": "code",
   "execution_count": null,
   "id": "6e82829d",
   "metadata": {},
   "outputs": [],
   "source": [
    "# Example test case\n",
    "operations = [\"MinStack\", \"push\", \"push\", \"push\", \"getMin\", \"pop\", \"top\", \"getMin\"]\n",
    "inputs = [[], [-2], [0], [-3], [], [], [], []]\n",
    "expected = [None, None, None, None, -3, None, 0, -2]"
   ]
  },
  {
   "cell_type": "code",
   "execution_count": null,
   "id": "a82c8832",
   "metadata": {},
   "outputs": [],
   "source": [
    "result = run_min_stack_operations(MinStack, operations, inputs)\n",
    "result"
   ]
  },
  {
   "cell_type": "code",
   "execution_count": null,
   "id": "fafa956b",
   "metadata": {},
   "outputs": [],
   "source": [
    "assert_min_stack_operations(result, expected)"
   ]
  }
 ],
 "metadata": {
  "jupytext": {
   "formats": "ipynb,py:percent"
  },
  "kernelspec": {
   "display_name": "leetcode-py-py3.13",
   "language": "python",
   "name": "python3"
  }
 },
 "nbformat": 4,
 "nbformat_minor": 5
}
