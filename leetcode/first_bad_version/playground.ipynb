{
 "cells": [
  {
   "cell_type": "code",
   "execution_count": null,
   "id": "71a9ac55",
   "metadata": {},
   "outputs": [],
   "source": [
    "from helpers import assert_first_bad_version, run_first_bad_version\n",
    "from solution import Solution"
   ]
  },
  {
   "cell_type": "code",
   "execution_count": null,
   "id": "019eddf2",
   "metadata": {},
   "outputs": [],
   "source": [
    "# Example test case\n",
    "n = 5\n",
    "bad = 4\n",
    "expected = 4"
   ]
  },
  {
   "cell_type": "code",
   "execution_count": null,
   "id": "3a1a99de",
   "metadata": {},
   "outputs": [],
   "source": [
    "result = run_first_bad_version(Solution, n, bad)\n",
    "result"
   ]
  },
  {
   "cell_type": "code",
   "execution_count": null,
   "id": "d1a830e6",
   "metadata": {},
   "outputs": [],
   "source": [
    "assert_first_bad_version(result, expected)"
   ]
  }
 ],
 "metadata": {
  "jupytext": {
   "formats": "ipynb,py:percent"
  },
  "kernelspec": {
   "display_name": "leetcode-py-py3.13",
   "language": "python",
   "name": "python3"
  }
 },
 "nbformat": 4,
 "nbformat_minor": 5
}
