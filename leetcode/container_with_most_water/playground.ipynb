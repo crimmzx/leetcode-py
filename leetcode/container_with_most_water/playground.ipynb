{
 "cells": [
  {
   "cell_type": "code",
   "execution_count": null,
   "id": "53c1aa31",
   "metadata": {},
   "outputs": [],
   "source": [
    "from helpers import assert_max_area, run_max_area\n",
    "from solution import Solution"
   ]
  },
  {
   "cell_type": "code",
   "execution_count": null,
   "id": "b9031024",
   "metadata": {},
   "outputs": [],
   "source": [
    "# Example test case\n",
    "height = [1, 8, 6, 2, 5, 4, 8, 3, 7]\n",
    "expected = 49"
   ]
  },
  {
   "cell_type": "code",
   "execution_count": null,
   "id": "95264d99",
   "metadata": {},
   "outputs": [],
   "source": [
    "result = run_max_area(Solution, height)\n",
    "result"
   ]
  },
  {
   "cell_type": "code",
   "execution_count": null,
   "id": "de24b536",
   "metadata": {},
   "outputs": [],
   "source": [
    "assert_max_area(result, expected)"
   ]
  }
 ],
 "metadata": {
  "jupytext": {
   "formats": "ipynb,py:percent"
  },
  "kernelspec": {
   "display_name": "leetcode-py-py3.13",
   "language": "python",
   "name": "python3"
  }
 },
 "nbformat": 4,
 "nbformat_minor": 5
}
