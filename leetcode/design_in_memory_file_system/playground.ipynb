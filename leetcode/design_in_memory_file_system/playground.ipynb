{
 "cells": [
  {
   "cell_type": "code",
   "execution_count": null,
   "id": "2e611d9a",
   "metadata": {},
   "outputs": [],
   "source": [
    "from helpers import assert_file_system, run_file_system\n",
    "from solution import FileSystem"
   ]
  },
  {
   "cell_type": "code",
   "execution_count": null,
   "id": "8f757be1",
   "metadata": {},
   "outputs": [],
   "source": [
    "# Example test case\n",
    "operations = [\"FileSystem\", \"ls\", \"mkdir\", \"addContentToFile\", \"ls\", \"readContentFromFile\"]\n",
    "inputs = [[], [\"/\"], [\"/a/b/c\"], [\"/a/b/c/d\", \"hello\"], [\"/\"], [\"/a/b/c/d\"]]\n",
    "expected = [None, [], None, None, [\"a\"], \"hello\"]"
   ]
  },
  {
   "cell_type": "code",
   "execution_count": null,
   "id": "c0b029e2",
   "metadata": {},
   "outputs": [],
   "source": [
    "result, fs = run_file_system(FileSystem, operations, inputs)\n",
    "print(result)\n",
    "fs"
   ]
  },
  {
   "cell_type": "code",
   "execution_count": null,
   "id": "ac29b56f",
   "metadata": {},
   "outputs": [],
   "source": [
    "assert_file_system(result, expected)"
   ]
  }
 ],
 "metadata": {
  "kernelspec": {
   "display_name": "leetcode-py-py3.13",
   "language": "python",
   "name": "python3"
  }
 },
 "nbformat": 4,
 "nbformat_minor": 5
}
