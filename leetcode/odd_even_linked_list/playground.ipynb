{
 "cells": [
  {
   "cell_type": "code",
   "execution_count": null,
   "id": "38ea1b6e",
   "metadata": {},
   "outputs": [],
   "source": [
    "from helpers import assert_odd_even_list, run_odd_even_list\n",
    "from solution import Solution"
   ]
  },
  {
   "cell_type": "code",
   "execution_count": null,
   "id": "ab2d7a36",
   "metadata": {},
   "outputs": [],
   "source": [
    "# Example test case\n",
    "head_list = [1, 2, 3, 4, 5]\n",
    "expected = [1, 3, 5, 2, 4]"
   ]
  },
  {
   "cell_type": "code",
   "execution_count": null,
   "id": "78341805",
   "metadata": {},
   "outputs": [],
   "source": [
    "result = run_odd_even_list(Solution, head_list)\n",
    "result"
   ]
  },
  {
   "cell_type": "code",
   "execution_count": null,
   "id": "17580b67",
   "metadata": {},
   "outputs": [],
   "source": [
    "assert_odd_even_list(result, expected)"
   ]
  }
 ],
 "metadata": {
  "kernelspec": {
   "display_name": "leetcode-py-py3.13",
   "language": "python",
   "name": "python3"
  }
 },
 "nbformat": 4,
 "nbformat_minor": 5
}
