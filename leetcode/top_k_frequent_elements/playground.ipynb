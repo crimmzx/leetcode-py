{
 "cells": [
  {
   "cell_type": "code",
   "execution_count": null,
   "id": "1fb80fea",
   "metadata": {},
   "outputs": [],
   "source": [
    "from helpers import assert_top_k_frequent, run_top_k_frequent\n",
    "from solution import Solution"
   ]
  },
  {
   "cell_type": "code",
   "execution_count": null,
   "id": "c56929c1",
   "metadata": {},
   "outputs": [],
   "source": [
    "# Example test case\n",
    "nums = [1, 1, 1, 2, 2, 3]\n",
    "k = 2\n",
    "expected = [1, 2]"
   ]
  },
  {
   "cell_type": "code",
   "execution_count": null,
   "id": "9250126e",
   "metadata": {},
   "outputs": [],
   "source": [
    "result = run_top_k_frequent(Solution, nums, k)\n",
    "result"
   ]
  },
  {
   "cell_type": "code",
   "execution_count": null,
   "id": "6e292480",
   "metadata": {},
   "outputs": [],
   "source": [
    "assert_top_k_frequent(result, expected)"
   ]
  }
 ],
 "metadata": {
  "kernelspec": {
   "display_name": "leetcode-py-py3.13",
   "language": "python",
   "name": "python3"
  }
 },
 "nbformat": 4,
 "nbformat_minor": 5
}
