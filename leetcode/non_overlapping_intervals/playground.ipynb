{
 "cells": [
  {
   "cell_type": "code",
   "execution_count": null,
   "id": "462a8ceb",
   "metadata": {},
   "outputs": [],
   "source": [
    "from helpers import assert_erase_overlap_intervals, run_erase_overlap_intervals\n",
    "from solution import Solution"
   ]
  },
  {
   "cell_type": "code",
   "execution_count": null,
   "id": "6941c1e9",
   "metadata": {},
   "outputs": [],
   "source": [
    "# Example test case\n",
    "intervals = [[1, 2], [2, 3], [3, 4], [1, 3]]\n",
    "expected = 1"
   ]
  },
  {
   "cell_type": "code",
   "execution_count": null,
   "id": "116e9ecf",
   "metadata": {},
   "outputs": [],
   "source": [
    "result = run_erase_overlap_intervals(Solution, intervals)\n",
    "result"
   ]
  },
  {
   "cell_type": "code",
   "execution_count": null,
   "id": "d1d3d0d1",
   "metadata": {},
   "outputs": [],
   "source": [
    "assert_erase_overlap_intervals(result, expected)"
   ]
  }
 ],
 "metadata": {
  "kernelspec": {
   "display_name": "leetcode-py-py3.13",
   "language": "python",
   "name": "python3"
  }
 },
 "nbformat": 4,
 "nbformat_minor": 5
}
