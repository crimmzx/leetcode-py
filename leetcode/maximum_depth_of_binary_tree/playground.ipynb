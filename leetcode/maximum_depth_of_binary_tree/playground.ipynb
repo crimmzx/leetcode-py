{
 "cells": [
  {
   "cell_type": "code",
   "execution_count": null,
   "id": "3fd6d866",
   "metadata": {},
   "outputs": [],
   "source": [
    "from helpers import assert_max_depth, run_max_depth\n",
    "from solution import Solution"
   ]
  },
  {
   "cell_type": "code",
   "execution_count": null,
   "id": "69368198",
   "metadata": {},
   "outputs": [],
   "source": [
    "# Example test case\n",
    "root_list = [3, 9, 20, None, None, 15, 7]\n",
    "expected = 3"
   ]
  },
  {
   "cell_type": "code",
   "execution_count": null,
   "id": "dc0b04cf",
   "metadata": {},
   "outputs": [],
   "source": [
    "result = run_max_depth(Solution, root_list)\n",
    "result"
   ]
  },
  {
   "cell_type": "code",
   "execution_count": null,
   "id": "6352926d",
   "metadata": {},
   "outputs": [],
   "source": [
    "assert_max_depth(result, expected)"
   ]
  }
 ],
 "metadata": {
  "jupytext": {
   "formats": "ipynb,py:percent"
  },
  "kernelspec": {
   "display_name": "leetcode-py-py3.13",
   "language": "python",
   "name": "python3"
  }
 },
 "nbformat": 4,
 "nbformat_minor": 5
}
