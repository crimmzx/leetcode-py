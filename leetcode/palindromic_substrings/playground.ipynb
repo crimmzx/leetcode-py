{
 "cells": [
  {
   "cell_type": "code",
   "execution_count": null,
   "id": "bbeaed99",
   "metadata": {},
   "outputs": [],
   "source": [
    "from helpers import assert_count_substrings, run_count_substrings\n",
    "from solution import Solution"
   ]
  },
  {
   "cell_type": "code",
   "execution_count": null,
   "id": "26ccf5b0",
   "metadata": {},
   "outputs": [],
   "source": [
    "# Example test case\n",
    "s = \"abc\"\n",
    "expected = 3"
   ]
  },
  {
   "cell_type": "code",
   "execution_count": null,
   "id": "d183491a",
   "metadata": {},
   "outputs": [],
   "source": [
    "result = run_count_substrings(Solution, s)\n",
    "result"
   ]
  },
  {
   "cell_type": "code",
   "execution_count": null,
   "id": "069845b3",
   "metadata": {},
   "outputs": [],
   "source": [
    "assert_count_substrings(result, expected)"
   ]
  }
 ],
 "metadata": {
  "kernelspec": {
   "display_name": "leetcode-py-py3.13",
   "language": "python",
   "name": "python3"
  }
 },
 "nbformat": 4,
 "nbformat_minor": 5
}
