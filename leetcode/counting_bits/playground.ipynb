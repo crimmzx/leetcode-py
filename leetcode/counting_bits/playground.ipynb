{
 "cells": [
  {
   "cell_type": "code",
   "execution_count": null,
   "id": "01a31510",
   "metadata": {},
   "outputs": [],
   "source": [
    "from helpers import assert_count_bits, run_count_bits\n",
    "from solution import Solution"
   ]
  },
  {
   "cell_type": "code",
   "execution_count": null,
   "id": "6c075a71",
   "metadata": {},
   "outputs": [],
   "source": [
    "# Example test case\n",
    "n = 2\n",
    "expected = [0, 1, 1]"
   ]
  },
  {
   "cell_type": "code",
   "execution_count": null,
   "id": "19cbf988",
   "metadata": {},
   "outputs": [],
   "source": [
    "result = run_count_bits(Solution, n)\n",
    "result"
   ]
  },
  {
   "cell_type": "code",
   "execution_count": null,
   "id": "90bb4f07",
   "metadata": {},
   "outputs": [],
   "source": [
    "assert_count_bits(result, expected)"
   ]
  }
 ],
 "metadata": {
  "kernelspec": {
   "display_name": "leetcode-py-py3.13",
   "language": "python",
   "name": "python3"
  }
 },
 "nbformat": 4,
 "nbformat_minor": 5
}
