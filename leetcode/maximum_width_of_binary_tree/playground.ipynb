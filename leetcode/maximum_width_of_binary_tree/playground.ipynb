{
 "cells": [
  {
   "cell_type": "code",
   "execution_count": null,
   "id": "f412f149",
   "metadata": {},
   "outputs": [],
   "source": [
    "from helpers import assert_width_of_binary_tree, run_width_of_binary_tree\n",
    "from solution import Solution"
   ]
  },
  {
   "cell_type": "code",
   "execution_count": null,
   "id": "f4e63747",
   "metadata": {},
   "outputs": [],
   "source": [
    "# Example test case\n",
    "root_list: list[int | None] = [1, 3, 2, 5, 3, None, 9]\n",
    "expected = 4"
   ]
  },
  {
   "cell_type": "code",
   "execution_count": null,
   "id": "ec17531d",
   "metadata": {},
   "outputs": [],
   "source": [
    "result = run_width_of_binary_tree(Solution, root_list)\n",
    "result"
   ]
  },
  {
   "cell_type": "code",
   "execution_count": null,
   "id": "ffbc0480",
   "metadata": {},
   "outputs": [],
   "source": [
    "assert_width_of_binary_tree(result, expected)"
   ]
  }
 ],
 "metadata": {
  "kernelspec": {
   "display_name": "leetcode-py-py3.13",
   "language": "python",
   "name": "python3"
  }
 },
 "nbformat": 4,
 "nbformat_minor": 5
}
