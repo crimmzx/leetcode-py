{
 "cells": [
  {
   "cell_type": "code",
   "execution_count": null,
   "id": "a9d65670",
   "metadata": {},
   "outputs": [],
   "source": [
    "from helpers import assert_majority_element, run_majority_element\n",
    "from solution import Solution"
   ]
  },
  {
   "cell_type": "code",
   "execution_count": null,
   "id": "4ba358b6",
   "metadata": {},
   "outputs": [],
   "source": [
    "# Example test case\n",
    "nums = [3, 2, 3]\n",
    "expected = 3"
   ]
  },
  {
   "cell_type": "code",
   "execution_count": null,
   "id": "78f28d02",
   "metadata": {},
   "outputs": [],
   "source": [
    "result = run_majority_element(Solution, nums)\n",
    "result"
   ]
  },
  {
   "cell_type": "code",
   "execution_count": null,
   "id": "abecae9b",
   "metadata": {},
   "outputs": [],
   "source": [
    "assert_majority_element(result, expected)"
   ]
  }
 ],
 "metadata": {
  "jupytext": {
   "formats": "ipynb,py:percent"
  },
  "kernelspec": {
   "display_name": "leetcode-py-py3.13",
   "language": "python",
   "name": "python3"
  }
 },
 "nbformat": 4,
 "nbformat_minor": 5
}
