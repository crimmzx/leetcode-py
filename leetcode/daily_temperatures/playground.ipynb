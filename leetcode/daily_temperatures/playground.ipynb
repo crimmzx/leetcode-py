{
 "cells": [
  {
   "cell_type": "code",
   "execution_count": null,
   "id": "fe9541a0",
   "metadata": {},
   "outputs": [],
   "source": [
    "from helpers import assert_daily_temperatures, run_daily_temperatures\n",
    "from solution import Solution"
   ]
  },
  {
   "cell_type": "code",
   "execution_count": null,
   "id": "a5124b73",
   "metadata": {},
   "outputs": [],
   "source": [
    "# Example test case\n",
    "temperatures = [73, 74, 75, 71, 69, 72, 76, 73]\n",
    "expected = [1, 1, 4, 2, 1, 1, 0, 0]"
   ]
  },
  {
   "cell_type": "code",
   "execution_count": null,
   "id": "8fc8c774",
   "metadata": {},
   "outputs": [],
   "source": [
    "result = run_daily_temperatures(Solution, temperatures)\n",
    "result"
   ]
  },
  {
   "cell_type": "code",
   "execution_count": null,
   "id": "1c127161",
   "metadata": {},
   "outputs": [],
   "source": [
    "assert_daily_temperatures(result, expected)"
   ]
  }
 ],
 "metadata": {
  "kernelspec": {
   "display_name": "leetcode-py-py3.13",
   "language": "python",
   "name": "python3"
  }
 },
 "nbformat": 4,
 "nbformat_minor": 5
}
