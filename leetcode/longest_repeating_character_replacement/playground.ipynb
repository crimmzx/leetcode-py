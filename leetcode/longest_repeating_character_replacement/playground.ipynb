{
 "cells": [
  {
   "cell_type": "code",
   "execution_count": null,
   "id": "1c8b4db0",
   "metadata": {},
   "outputs": [],
   "source": [
    "from helpers import assert_character_replacement, run_character_replacement\n",
    "from solution import Solution"
   ]
  },
  {
   "cell_type": "code",
   "execution_count": null,
   "id": "f47bd368",
   "metadata": {},
   "outputs": [],
   "source": [
    "# Example test case\n",
    "s = \"ABAB\"\n",
    "k = 2\n",
    "expected = 4"
   ]
  },
  {
   "cell_type": "code",
   "execution_count": null,
   "id": "cbfd9280",
   "metadata": {},
   "outputs": [],
   "source": [
    "result = run_character_replacement(Solution, s, k)\n",
    "result"
   ]
  },
  {
   "cell_type": "code",
   "execution_count": null,
   "id": "783f5aed",
   "metadata": {},
   "outputs": [],
   "source": [
    "assert_character_replacement(result, expected)"
   ]
  }
 ],
 "metadata": {
  "kernelspec": {
   "display_name": "leetcode-py-py3.13",
   "language": "python",
   "name": "python3"
  }
 },
 "nbformat": 4,
 "nbformat_minor": 5
}
