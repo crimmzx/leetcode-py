{
 "cells": [
  {
   "cell_type": "code",
   "execution_count": null,
   "id": "171a9642",
   "metadata": {},
   "outputs": [],
   "source": [
    "from helpers import assert_max_profit, run_max_profit\n",
    "from solution import Solution"
   ]
  },
  {
   "cell_type": "code",
   "execution_count": null,
   "id": "389f70d2",
   "metadata": {},
   "outputs": [],
   "source": [
    "# Example test case\n",
    "prices = [7, 1, 5, 3, 6, 4]\n",
    "expected = 5"
   ]
  },
  {
   "cell_type": "code",
   "execution_count": null,
   "id": "dd5932ea",
   "metadata": {},
   "outputs": [],
   "source": [
    "result = run_max_profit(Solution, prices)\n",
    "result"
   ]
  },
  {
   "cell_type": "code",
   "execution_count": null,
   "id": "98c2e703",
   "metadata": {},
   "outputs": [],
   "source": [
    "assert_max_profit(result, expected)"
   ]
  }
 ],
 "metadata": {
  "jupytext": {
   "formats": "ipynb,py:percent"
  },
  "kernelspec": {
   "display_name": "leetcode-py-py3.13",
   "language": "python",
   "name": "python3"
  }
 },
 "nbformat": 4,
 "nbformat_minor": 5
}
