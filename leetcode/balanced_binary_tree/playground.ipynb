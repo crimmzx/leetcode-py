{
 "cells": [
  {
   "cell_type": "code",
   "execution_count": null,
   "id": "01316af7",
   "metadata": {},
   "outputs": [],
   "source": [
    "from helpers import assert_is_balanced, run_is_balanced\n",
    "from solution import Solution\n",
    "\n",
    "from leetcode_py import TreeNode"
   ]
  },
  {
   "cell_type": "code",
   "execution_count": null,
   "id": "dfcc4bfd",
   "metadata": {},
   "outputs": [],
   "source": [
    "# Example test case\n",
    "root_list: list[int | None] = [3, 9, 20, None, None, 15, 7]\n",
    "expected = True"
   ]
  },
  {
   "cell_type": "code",
   "execution_count": null,
   "id": "f504f639",
   "metadata": {},
   "outputs": [],
   "source": [
    "result = run_is_balanced(Solution, root_list)\n",
    "result"
   ]
  },
  {
   "cell_type": "code",
   "execution_count": null,
   "id": "6648a660",
   "metadata": {},
   "outputs": [],
   "source": [
    "root = TreeNode.from_list(root_list)\n",
    "root"
   ]
  },
  {
   "cell_type": "code",
   "execution_count": null,
   "id": "8a3972a2",
   "metadata": {},
   "outputs": [],
   "source": [
    "assert_is_balanced(result, expected)"
   ]
  }
 ],
 "metadata": {
  "kernelspec": {
   "display_name": "leetcode-py-py3.13",
   "language": "python",
   "name": "python3"
  }
 },
 "nbformat": 4,
 "nbformat_minor": 5
}
