{
 "cells": [
  {
   "cell_type": "code",
   "execution_count": null,
   "id": "42df01e9",
   "metadata": {},
   "outputs": [],
   "source": [
    "from helpers import assert_sort_colors, run_sort_colors\n",
    "from solution import Solution"
   ]
  },
  {
   "cell_type": "code",
   "execution_count": null,
   "id": "cb71c976",
   "metadata": {},
   "outputs": [],
   "source": [
    "# Example test case\n",
    "nums = [2, 0, 2, 1, 1, 0]\n",
    "expected = [0, 0, 1, 1, 2, 2]"
   ]
  },
  {
   "cell_type": "code",
   "execution_count": null,
   "id": "3be9c5be",
   "metadata": {},
   "outputs": [],
   "source": [
    "result = run_sort_colors(Solution, nums)\n",
    "result"
   ]
  },
  {
   "cell_type": "code",
   "execution_count": null,
   "id": "e27a8f35",
   "metadata": {},
   "outputs": [],
   "source": [
    "assert_sort_colors(result, expected)"
   ]
  }
 ],
 "metadata": {
  "jupytext": {
   "formats": "ipynb,py:percent"
  },
  "kernelspec": {
   "display_name": "leetcode-py-py3.13",
   "language": "python",
   "name": "python3"
  }
 },
 "nbformat": 4,
 "nbformat_minor": 5
}
