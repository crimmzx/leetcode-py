{
 "cells": [
  {
   "cell_type": "code",
   "execution_count": null,
   "id": "05e7ff2a",
   "metadata": {},
   "outputs": [],
   "source": [
    "from helpers import assert_longest_consecutive, run_longest_consecutive\n",
    "from solution import Solution"
   ]
  },
  {
   "cell_type": "code",
   "execution_count": null,
   "id": "940e5827",
   "metadata": {},
   "outputs": [],
   "source": [
    "# Example test case\n",
    "nums = [100, 4, 200, 1, 3, 2]\n",
    "expected = 4"
   ]
  },
  {
   "cell_type": "code",
   "execution_count": null,
   "id": "fcb5d440",
   "metadata": {},
   "outputs": [],
   "source": [
    "result = run_longest_consecutive(Solution, nums)\n",
    "result"
   ]
  },
  {
   "cell_type": "code",
   "execution_count": null,
   "id": "63af43fd",
   "metadata": {},
   "outputs": [],
   "source": [
    "assert_longest_consecutive(result, expected)"
   ]
  }
 ],
 "metadata": {
  "kernelspec": {
   "display_name": "leetcode-py-py3.13",
   "language": "python",
   "name": "python3"
  }
 },
 "nbformat": 4,
 "nbformat_minor": 5
}
