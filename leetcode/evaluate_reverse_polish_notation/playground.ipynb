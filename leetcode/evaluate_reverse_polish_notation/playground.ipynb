{
 "cells": [
  {
   "cell_type": "code",
   "execution_count": null,
   "id": "cd841d34",
   "metadata": {},
   "outputs": [],
   "source": [
    "from helpers import assert_eval_rpn, run_eval_rpn\n",
    "from solution import Solution"
   ]
  },
  {
   "cell_type": "code",
   "execution_count": null,
   "id": "dc5c14da",
   "metadata": {},
   "outputs": [],
   "source": [
    "# Example test case\n",
    "tokens = [\"2\", \"1\", \"+\", \"3\", \"*\"]\n",
    "expected = 9"
   ]
  },
  {
   "cell_type": "code",
   "execution_count": null,
   "id": "d967ab88",
   "metadata": {},
   "outputs": [],
   "source": [
    "result = run_eval_rpn(Solution, tokens)\n",
    "result"
   ]
  },
  {
   "cell_type": "code",
   "execution_count": null,
   "id": "c0130a96",
   "metadata": {},
   "outputs": [],
   "source": [
    "assert_eval_rpn(result, expected)"
   ]
  }
 ],
 "metadata": {
  "jupytext": {
   "formats": "ipynb,py:percent"
  },
  "kernelspec": {
   "display_name": "leetcode-py-py3.13",
   "language": "python",
   "name": "python3"
  }
 },
 "nbformat": 4,
 "nbformat_minor": 5
}
