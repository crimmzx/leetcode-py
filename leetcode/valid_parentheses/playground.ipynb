{
 "cells": [
  {
   "cell_type": "code",
   "execution_count": null,
   "id": "f242b332",
   "metadata": {},
   "outputs": [],
   "source": [
    "from helpers import assert_is_valid, run_is_valid\n",
    "from solution import Solution"
   ]
  },
  {
   "cell_type": "code",
   "execution_count": null,
   "id": "63416d95",
   "metadata": {},
   "outputs": [],
   "source": [
    "# Example test case\n",
    "s = \"()\"\n",
    "expected = True"
   ]
  },
  {
   "cell_type": "code",
   "execution_count": null,
   "id": "73d8af9f",
   "metadata": {},
   "outputs": [],
   "source": [
    "result = run_is_valid(Solution, s)\n",
    "result"
   ]
  },
  {
   "cell_type": "code",
   "execution_count": null,
   "id": "fee9b7a2",
   "metadata": {},
   "outputs": [],
   "source": [
    "assert_is_valid(result, expected)"
   ]
  }
 ],
 "metadata": {
  "jupytext": {
   "formats": "ipynb,py:percent"
  },
  "kernelspec": {
   "display_name": "leetcode-py-py3.13",
   "language": "python",
   "name": "python3"
  }
 },
 "nbformat": 4,
 "nbformat_minor": 5
}
