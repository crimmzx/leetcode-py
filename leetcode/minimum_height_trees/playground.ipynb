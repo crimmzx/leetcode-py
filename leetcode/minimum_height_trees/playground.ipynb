{
 "cells": [
  {
   "cell_type": "code",
   "execution_count": null,
   "id": "ea20c303",
   "metadata": {},
   "outputs": [],
   "source": [
    "from helpers import assert_find_min_height_trees, run_find_min_height_trees\n",
    "from solution import Solution"
   ]
  },
  {
   "cell_type": "code",
   "execution_count": null,
   "id": "117bc725",
   "metadata": {},
   "outputs": [],
   "source": [
    "# Example test case\n",
    "n = 4\n",
    "edges = [[1, 0], [1, 2], [1, 3]]\n",
    "expected = [1]"
   ]
  },
  {
   "cell_type": "code",
   "execution_count": null,
   "id": "b80dd7c3",
   "metadata": {},
   "outputs": [],
   "source": [
    "result = run_find_min_height_trees(Solution, n, edges)\n",
    "result"
   ]
  },
  {
   "cell_type": "code",
   "execution_count": null,
   "id": "65d7ee0c",
   "metadata": {},
   "outputs": [],
   "source": [
    "assert_find_min_height_trees(result, expected)"
   ]
  }
 ],
 "metadata": {
  "jupytext": {
   "formats": "ipynb,py:percent"
  },
  "kernelspec": {
   "display_name": "leetcode-py-py3.13",
   "language": "python",
   "name": "python3"
  }
 },
 "nbformat": 4,
 "nbformat_minor": 5
}
