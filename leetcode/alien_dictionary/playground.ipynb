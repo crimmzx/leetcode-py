{
 "cells": [
  {
   "cell_type": "code",
   "execution_count": null,
   "id": "0ba5e840",
   "metadata": {},
   "outputs": [],
   "source": [
    "from helpers import assert_alien_order, run_alien_order\n",
    "from solution import Solution"
   ]
  },
  {
   "cell_type": "code",
   "execution_count": null,
   "id": "0f00394c",
   "metadata": {},
   "outputs": [],
   "source": [
    "# Example test case\n",
    "words = [\"wrt\", \"wrf\", \"er\", \"ett\", \"rftt\"]\n",
    "expected = \"wertf\""
   ]
  },
  {
   "cell_type": "code",
   "execution_count": null,
   "id": "4ecab642",
   "metadata": {},
   "outputs": [],
   "source": [
    "result = run_alien_order(Solution, words)\n",
    "result"
   ]
  },
  {
   "cell_type": "code",
   "execution_count": null,
   "id": "d3869abd",
   "metadata": {},
   "outputs": [],
   "source": [
    "assert_alien_order(result, expected)"
   ]
  }
 ],
 "metadata": {
  "kernelspec": {
   "display_name": "leetcode-py-py3.13",
   "language": "python",
   "name": "python3"
  }
 },
 "nbformat": 4,
 "nbformat_minor": 5
}
