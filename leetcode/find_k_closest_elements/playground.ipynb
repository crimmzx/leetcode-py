{
 "cells": [
  {
   "cell_type": "code",
   "execution_count": null,
   "id": "8acce8ed",
   "metadata": {},
   "outputs": [],
   "source": [
    "from helpers import assert_find_closest_elements, run_find_closest_elements\n",
    "from solution import Solution"
   ]
  },
  {
   "cell_type": "code",
   "execution_count": null,
   "id": "29129dbc",
   "metadata": {},
   "outputs": [],
   "source": [
    "# Example test case\n",
    "arr = [1, 2, 3, 4, 5]\n",
    "k = 4\n",
    "x = 3\n",
    "expected = [1, 2, 3, 4]"
   ]
  },
  {
   "cell_type": "code",
   "execution_count": null,
   "id": "e2647ba0",
   "metadata": {},
   "outputs": [],
   "source": [
    "result = run_find_closest_elements(Solution, arr, k, x)\n",
    "result"
   ]
  },
  {
   "cell_type": "code",
   "execution_count": null,
   "id": "6ffb71eb",
   "metadata": {},
   "outputs": [],
   "source": [
    "assert_find_closest_elements(result, expected)"
   ]
  }
 ],
 "metadata": {
  "kernelspec": {
   "display_name": "leetcode-py-py3.13",
   "language": "python",
   "name": "python3"
  }
 },
 "nbformat": 4,
 "nbformat_minor": 5
}
